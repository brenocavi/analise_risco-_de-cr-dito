{
  "nbformat": 4,
  "nbformat_minor": 0,
  "metadata": {
    "colab": {
      "provenance": [],
      "gpuType": "T4",
      "toc_visible": true,
      "include_colab_link": true
    },
    "kernelspec": {
      "name": "python3",
      "display_name": "Python 3"
    },
    "accelerator": "GPU",
    "gpuClass": "standard"
  },
  "cells": [
    {
      "cell_type": "markdown",
      "metadata": {
        "id": "view-in-github",
        "colab_type": "text"
      },
      "source": [
        "<a href=\"https://colab.research.google.com/github/brenocavi/analise_risco-_de-cr-dito/blob/main/Avalia%C3%A7%C3%A3o_de_Risco_de_Cr%C3%A9dito.ipynb\" target=\"_parent\"><img src=\"https://colab.research.google.com/assets/colab-badge.svg\" alt=\"Open In Colab\"/></a>"
      ]
    },
    {
      "cell_type": "markdown",
      "metadata": {
        "id": "X2k0C9ObFWpR"
      },
      "source": [
        "<img alt=\"Colaboratory logo\" width=\"15%\" src=\"https://raw.githubusercontent.com/carlosfab/escola-data-science/master/img/novo_logo_bg_claro.png\">\n",
        "\n",
        "#### **Data Science na Prática 3.0**\n",
        "*by [sigmoidal.ai](https://sigmoidal.ai)*\n",
        "\n",
        "---"
      ]
    },
    {
      "cell_type": "markdown",
      "metadata": {
        "id": "ZNvmL_lMsAqU"
      },
      "source": [
        "# Avaliação de Risco de Crédito\n",
        "\n",
        "Uma das formas dos bancos conseguirem um grande faturamente, é atravês de emprestimos. A rotação do dinheiro, com retorno a juros mais altos, faz com que os negócio dos banco seja rentável. Porém, nesse processo algo um passo muito importante é tentar reduzir a inadimplência dos clientes.\n",
        "\n",
        "Com isso, formas de identificar potenciais riscos de não pagamento é de suma importância para o balanço financeiro das empresas. As empresas têm investido em formar de reduzir o risco de *default*.\n",
        "\n",
        "\n",
        "*Default* é o termo utilizado para indicado o não cumprimento das obrigações e/ou condições de um empréstimo (como financiamentos ou dívidas de cartão de crédito). Normalmente, o principal motivo para o descumprimento das condições de pagamento é incapacidade financeira do cliente.\n",
        "\n",
        "<p align=center>\n",
        "  <img src=\"https://images.unsplash.com/photo-1556742502-ec7c0e9f34b1?ixid=MnwxMjA3fDB8MHxwaG90by1wYWdlfHx8fGVufDB8fHx8&ixlib=rb-1.2.1&auto=format&fit=crop&w=687&q=80\" width=\"40%\">\n",
        "</p>\n",
        "\n",
        "A utilização de soluções pautadas em modelos de *Machine Learning* têm sido utilizadas como auxilio nessa missão. Algumas Fintechs, como é o caso do Nubank, têm se mostrado pioneira na nesse tipo de solução. \n",
        "\n",
        "O conjunto de dados a ser utilizado neste Projeto de *Data Science* parte de uma competição realizada pela Startup [Nubank](https://nubank.com.br/sobre-nos) a fim de revelar talentos e potenciais contratações pela Fintech.\n",
        "\n",
        "## Contextualização do Problema\n",
        "\n",
        "Neste problema, o objetivo é prever qual a probabilidade de um cliente da Startup Nubank não coumprir com suas obrigações financeiras e deixar de pagar a sua fatura do Cartão de Crédito.\n",
        "\n",
        "<p align=center>\n",
        "<img src=\"https://encrypted-tbn0.gstatic.com/images?q=tbn:ANd9GcQnveM5um_ymZwofG_ABW5aYe0zlsMrxNZGhw&usqp=CAU\" width=\"\"></p>\n",
        "  \n",
        "Vale ressaltar que essa avaliação deve ser realizada no momento em que o cliente solicita o cartão (normalmente no primeiro contato com a instituição).\n",
        "\n",
        "\n",
        "\n",
        "> OBJETIVO: Prever a probabilidade de um cliente virar inadimplente.\n",
        "\n",
        "\n",
        "Espera-se que um modelo seja capaz de minimizar as perdas financeiras do Nubank, porém minimizando também os falsos positivos.\n",
        "\n"
      ]
    },
    {
      "cell_type": "markdown",
      "metadata": {
        "id": "5PCK4RxLpqd8"
      },
      "source": [
        "## Importar os Dados\n",
        "\n",
        "Os dados que serão utilizados nesta análise estão disponíveis para download por meio [deste link](http://dl.dropboxusercontent.com/s/xn2a4kzf0zer0xu/acquisition_train.csv?dl=0). Consiste basicamente em um arquivo `csv` contendo 45.000 entradas e 43 colunas.\n",
        "\n",
        "Este arquivo será importando para uma estrutura *DataFrame* utilizando a biblioteca `pandas` a fim de possibilitar sua manipulação e análise."
      ]
    },
    {
      "cell_type": "markdown",
      "source": [
        "## Dicionário de variáveis \n",
        "\n",
        "* **ids**: Identificação individual de cliente;\n",
        "* **target_default**: Inadiplência do cliente;\n",
        "* **score_1 ... score_6**: Pontuação de orgões externos;\n",
        "* **risk_rate**: Taxa de risco de inadiplência;\n",
        "* **last_amount_borrowed**: Quantia em dinheiro pego no último emprestimo realizado; \n",
        "* **last_borrowed_in_months**: Quantia em dinhiero pego em emprestimo em meses; \n",
        "* **credit_limit**: Limite de crédito disponível para emprestimo;\n",
        "* **reason**: Razão apresentada para solicitar o emprestimo;\n",
        "* **income**: Renda mensal do cliente;\n",
        "* **facebook_profile**: Perfil do Facebook do cliente;\n",
        "* **state**: Estado em que o cliente mora;\n",
        "* **zip**: CEP;\n",
        "* **channel**: Canal de comunição realizada com cliente \n",
        "* **job_name**: Profissão do cliente;\n",
        "* **real_state**: Se o cliente possui casa própria ou mora de aluguel;\n",
        "* **ok_since**: Período com emprestimo quitado;\n",
        "* **n_bankruptcie**: Vezes que o cliente declarou falência; \n",
        "* **n_defaulted_loans**: Vezes que ficou na situação de inadimplente, com pagamento de emprestimo;\n",
        "* **n_accounts**: Quantidade de contas bancária que o cliente possui; \n",
        "* **n_issues**: Número de problemas relatados\n",
        "* **application_time_applied**: Tempo para processar a solicitação de emprestimo;\n",
        "* **application_time_in_funnel**: Tempo para processar a solicitação de emprestimo em sequência;\n",
        "* **email**: e-mail do cliente;\n",
        "* **external_data_provider_credit_checks_last_2_year**: Quantidade de vezes que foi solicitada pontuação de crédito do cliente a uma agência externa nos últimos dois anos; \n",
        "* **external_data_provider_credit_checks_last_month**:  Quantidade de vezes que foi solicitada pontuação de crédito do cliente a uma agência externa no último mês; \n",
        "* **external_data_provider_credit_checks_last_year**:  Quantidade de vezes que foi solicitada pontuação de crédito do cliente a uma agência externa no último ano; \n",
        "* **external_data_provider_email_seen_before**:\n",
        "* **external_data_provider_first_name**: Nome da agência de crédito fornecedora da pontuação do cliente;\n",
        "* **external_data_provider_fraud_score**: Pontuação fornecida agência específica, demonstra potencial fraudador;\n",
        "* **lat_lon**: Coordendas da residência do cliente;\n",
        "* **marketing_channel**: Canal pelo qual cliente soube do serviço;\n",
        "* **profile_phone_number**: Número de telefone do cliente;\n",
        "* **reported_income**: Renda reportada;\n",
        "* **shipping_state**: Estado de envio;\n",
        "* **shipping_zip_code**: Código postal de envio;\n",
        "* **profile_tags**: Categorização interna do sistema Nubank\n",
        "* **user_agent**: Identificação do provedor utilizado pela; usuário;\n",
        "* **target_fraud**: Coluna alvo da análise.\n"
      ],
      "metadata": {
        "id": "TjzdRyyJIbLu"
      }
    },
    {
      "cell_type": "code",
      "metadata": {
        "id": "PqMaG41qo1Y4"
      },
      "source": [
        "import pandas as pd \n",
        "import seaborn as sns\n",
        "import numpy as np\n",
        "import matplotlib.pyplot as plt\n",
        "\n",
        "from sklearn.impute import SimpleImputer\n",
        "from sklearn.preprocessing import LabelEncoder\n",
        "from sklearn.preprocessing import StandardScaler\n",
        "from sklearn.model_selection import train_test_split\n",
        "\n",
        "from sklearn.pipeline import make_pipeline\n",
        "from sklearn.model_selection import StratifiedKFold\n",
        "from sklearn.model_selection import GridSearchCV\n",
        "from sklearn.model_selection import cross_val_score\n",
        "\n",
        "from sklearn.tree import DecisionTreeClassifier\n",
        "from sklearn.ensemble import RandomForestClassifier\n",
        "from sklearn.linear_model import LogisticRegression\n",
        "from xgboost import XGBClassifier\n",
        "from lightgbm import LGBMClassifier\n",
        "from sklearn.linear_model import SGDClassifier\n",
        "\n",
        "from sklearn.metrics import classification_report\n",
        "from sklearn.metrics import confusion_matrix\n",
        "from sklearn.metrics import accuracy_score\n",
        "from sklearn.metrics import roc_auc_score\n",
        "from imblearn.over_sampling import SMOTE\n",
        "\n"
      ],
      "execution_count": null,
      "outputs": []
    },
    {
      "cell_type": "code",
      "source": [
        "#importante os dados \n",
        "df= pd.read_csv('http://dl.dropboxusercontent.com/s/xn2a4kzf0zer0xu/acquisition_train.csv?dl=0')"
      ],
      "metadata": {
        "id": "jcF6cqlU0xnV"
      },
      "execution_count": null,
      "outputs": []
    },
    {
      "cell_type": "markdown",
      "source": [
        "Como primeiro ponto de atenção existem algumas colunas, como por exemplo *score_1* e *score_2*, possuem valores ficticios ou codificadaos. Algumas outras colunas que poderiam conter dados pessoas de cliente, apresentam esse mesmo padrão. Para essas colunas será necessário verificar, atravês da quantidade de valores unicos, se é possível extrair algum tipo de informação. "
      ],
      "metadata": {
        "id": "ngRqKy5rGqDo"
      }
    },
    {
      "cell_type": "code",
      "source": [
        "df.head()"
      ],
      "metadata": {
        "colab": {
          "base_uri": "https://localhost:8080/",
          "height": 699
        },
        "id": "PZOEqRUk00nq",
        "outputId": "ca89a7b9-27fe-42ff-b11a-4a67432c266a"
      },
      "execution_count": null,
      "outputs": [
        {
          "output_type": "execute_result",
          "data": {
            "text/plain": [
              "                                    ids target_default  \\\n",
              "0  343b7e7b-2cf8-e508-b8fd-0a0285af30aa          False   \n",
              "1  bc2c7502-bbad-0f8c-39c3-94e881967124          False   \n",
              "2  669630dd-2e6a-0396-84bf-455e5009c922           True   \n",
              "3  d235609e-b6cb-0ccc-a329-d4f12e7ebdc1          False   \n",
              "4  9e0eb880-e8f4-3faa-67d8-f5cdd2b3932b          False   \n",
              "\n",
              "                    score_1                   score_2  score_3     score_4  \\\n",
              "0  1Rk8w4Ucd5yR3KcqZzLdow==  IOVu8au3ISbo6+zmfnYwMg==    350.0  101.800832   \n",
              "1  DGCQep2AE5QRkNCshIAlFQ==  SaamrHMo23l/3TwXOWgVzw==    370.0   97.062615   \n",
              "2  DGCQep2AE5QRkNCshIAlFQ==  Fv28Bz0YRTVAT5kl1bAV6g==    360.0  100.027073   \n",
              "3  1Rk8w4Ucd5yR3KcqZzLdow==  dCm9hFKfdRm7ej3jW+gyxw==    510.0  101.599485   \n",
              "4  8k8UDR4Yx0qasAjkGrUZLw==  +CxEO4w7jv3QPI/BQbyqAA==    500.0   98.474289   \n",
              "\n",
              "    score_5     score_6  risk_rate  last_amount_borrowed  ...  \\\n",
              "0  0.259555  108.427273       0.40              25033.92  ...   \n",
              "1  0.942655   92.002546       0.24                   NaN  ...   \n",
              "2  0.351918  112.892453       0.29               7207.92  ...   \n",
              "3  0.987673   94.902491       0.32                   NaN  ...   \n",
              "4  0.532539  118.126207       0.18                   NaN  ...   \n",
              "\n",
              "   external_data_provider_fraud_score  \\\n",
              "0                                 645   \n",
              "1                                 243   \n",
              "2                                  65   \n",
              "3                                 815   \n",
              "4                                 320   \n",
              "\n",
              "                                      lat_lon marketing_channel  \\\n",
              "0    (-29.151545708122246, -51.1386461804385)      Invite-email   \n",
              "1   (-19.687710705798963, -47.94151536525154)  Radio-commercial   \n",
              "2  (-28.748023890412284, -51.867279334353995)      Waiting-list   \n",
              "3   (-17.520650158450454, -39.75801139933186)      Waiting-list   \n",
              "4   (-16.574259446978008, -39.90990074785962)      Invite-email   \n",
              "\n",
              "   profile_phone_number reported_income shipping_state shipping_zip_code  \\\n",
              "0           514-9840782         57849.0          BR-MT             17528   \n",
              "1           251-3659293          4902.0          BR-RS             40933   \n",
              "2           230-6097993        163679.0          BR-RR             50985   \n",
              "3           261-3543751          1086.0          BR-RN             37825   \n",
              "4           102-3660162        198618.0          BR-MT             52827   \n",
              "\n",
              "                                profile_tags  \\\n",
              "0                    {'tags': ['n19', 'n8']}   \n",
              "1              {'tags': ['n6', 'n7', 'nim']}   \n",
              "2       {'tags': ['n0', 'n17', 'nim', 'da']}   \n",
              "3                           {'tags': ['n4']}   \n",
              "4  {'tags': ['pro+aty', 'n19', 'da', 'b19']}   \n",
              "\n",
              "                                          user_agent target_fraud  \n",
              "0  Mozilla/5.0 (Linux; Android 6.0.1; SGP771 Buil...          NaN  \n",
              "1  Mozilla/5.0 (Linux; Android 5.0.2; SAMSUNG SM-...          NaN  \n",
              "2  Mozilla/5.0 (Linux; Android 6.0.1; SGP771 Buil...          NaN  \n",
              "3  Mozilla/5.0 (Linux; Android 6.0; HTC One X10 B...          NaN  \n",
              "4  Mozilla/5.0 (Linux; Android 7.0; Pixel C Build...          NaN  \n",
              "\n",
              "[5 rows x 43 columns]"
            ],
            "text/html": [
              "\n",
              "  <div id=\"df-4d96d8e2-86db-48e8-b474-28b9f8227dac\">\n",
              "    <div class=\"colab-df-container\">\n",
              "      <div>\n",
              "<style scoped>\n",
              "    .dataframe tbody tr th:only-of-type {\n",
              "        vertical-align: middle;\n",
              "    }\n",
              "\n",
              "    .dataframe tbody tr th {\n",
              "        vertical-align: top;\n",
              "    }\n",
              "\n",
              "    .dataframe thead th {\n",
              "        text-align: right;\n",
              "    }\n",
              "</style>\n",
              "<table border=\"1\" class=\"dataframe\">\n",
              "  <thead>\n",
              "    <tr style=\"text-align: right;\">\n",
              "      <th></th>\n",
              "      <th>ids</th>\n",
              "      <th>target_default</th>\n",
              "      <th>score_1</th>\n",
              "      <th>score_2</th>\n",
              "      <th>score_3</th>\n",
              "      <th>score_4</th>\n",
              "      <th>score_5</th>\n",
              "      <th>score_6</th>\n",
              "      <th>risk_rate</th>\n",
              "      <th>last_amount_borrowed</th>\n",
              "      <th>...</th>\n",
              "      <th>external_data_provider_fraud_score</th>\n",
              "      <th>lat_lon</th>\n",
              "      <th>marketing_channel</th>\n",
              "      <th>profile_phone_number</th>\n",
              "      <th>reported_income</th>\n",
              "      <th>shipping_state</th>\n",
              "      <th>shipping_zip_code</th>\n",
              "      <th>profile_tags</th>\n",
              "      <th>user_agent</th>\n",
              "      <th>target_fraud</th>\n",
              "    </tr>\n",
              "  </thead>\n",
              "  <tbody>\n",
              "    <tr>\n",
              "      <th>0</th>\n",
              "      <td>343b7e7b-2cf8-e508-b8fd-0a0285af30aa</td>\n",
              "      <td>False</td>\n",
              "      <td>1Rk8w4Ucd5yR3KcqZzLdow==</td>\n",
              "      <td>IOVu8au3ISbo6+zmfnYwMg==</td>\n",
              "      <td>350.0</td>\n",
              "      <td>101.800832</td>\n",
              "      <td>0.259555</td>\n",
              "      <td>108.427273</td>\n",
              "      <td>0.40</td>\n",
              "      <td>25033.92</td>\n",
              "      <td>...</td>\n",
              "      <td>645</td>\n",
              "      <td>(-29.151545708122246, -51.1386461804385)</td>\n",
              "      <td>Invite-email</td>\n",
              "      <td>514-9840782</td>\n",
              "      <td>57849.0</td>\n",
              "      <td>BR-MT</td>\n",
              "      <td>17528</td>\n",
              "      <td>{'tags': ['n19', 'n8']}</td>\n",
              "      <td>Mozilla/5.0 (Linux; Android 6.0.1; SGP771 Buil...</td>\n",
              "      <td>NaN</td>\n",
              "    </tr>\n",
              "    <tr>\n",
              "      <th>1</th>\n",
              "      <td>bc2c7502-bbad-0f8c-39c3-94e881967124</td>\n",
              "      <td>False</td>\n",
              "      <td>DGCQep2AE5QRkNCshIAlFQ==</td>\n",
              "      <td>SaamrHMo23l/3TwXOWgVzw==</td>\n",
              "      <td>370.0</td>\n",
              "      <td>97.062615</td>\n",
              "      <td>0.942655</td>\n",
              "      <td>92.002546</td>\n",
              "      <td>0.24</td>\n",
              "      <td>NaN</td>\n",
              "      <td>...</td>\n",
              "      <td>243</td>\n",
              "      <td>(-19.687710705798963, -47.94151536525154)</td>\n",
              "      <td>Radio-commercial</td>\n",
              "      <td>251-3659293</td>\n",
              "      <td>4902.0</td>\n",
              "      <td>BR-RS</td>\n",
              "      <td>40933</td>\n",
              "      <td>{'tags': ['n6', 'n7', 'nim']}</td>\n",
              "      <td>Mozilla/5.0 (Linux; Android 5.0.2; SAMSUNG SM-...</td>\n",
              "      <td>NaN</td>\n",
              "    </tr>\n",
              "    <tr>\n",
              "      <th>2</th>\n",
              "      <td>669630dd-2e6a-0396-84bf-455e5009c922</td>\n",
              "      <td>True</td>\n",
              "      <td>DGCQep2AE5QRkNCshIAlFQ==</td>\n",
              "      <td>Fv28Bz0YRTVAT5kl1bAV6g==</td>\n",
              "      <td>360.0</td>\n",
              "      <td>100.027073</td>\n",
              "      <td>0.351918</td>\n",
              "      <td>112.892453</td>\n",
              "      <td>0.29</td>\n",
              "      <td>7207.92</td>\n",
              "      <td>...</td>\n",
              "      <td>65</td>\n",
              "      <td>(-28.748023890412284, -51.867279334353995)</td>\n",
              "      <td>Waiting-list</td>\n",
              "      <td>230-6097993</td>\n",
              "      <td>163679.0</td>\n",
              "      <td>BR-RR</td>\n",
              "      <td>50985</td>\n",
              "      <td>{'tags': ['n0', 'n17', 'nim', 'da']}</td>\n",
              "      <td>Mozilla/5.0 (Linux; Android 6.0.1; SGP771 Buil...</td>\n",
              "      <td>NaN</td>\n",
              "    </tr>\n",
              "    <tr>\n",
              "      <th>3</th>\n",
              "      <td>d235609e-b6cb-0ccc-a329-d4f12e7ebdc1</td>\n",
              "      <td>False</td>\n",
              "      <td>1Rk8w4Ucd5yR3KcqZzLdow==</td>\n",
              "      <td>dCm9hFKfdRm7ej3jW+gyxw==</td>\n",
              "      <td>510.0</td>\n",
              "      <td>101.599485</td>\n",
              "      <td>0.987673</td>\n",
              "      <td>94.902491</td>\n",
              "      <td>0.32</td>\n",
              "      <td>NaN</td>\n",
              "      <td>...</td>\n",
              "      <td>815</td>\n",
              "      <td>(-17.520650158450454, -39.75801139933186)</td>\n",
              "      <td>Waiting-list</td>\n",
              "      <td>261-3543751</td>\n",
              "      <td>1086.0</td>\n",
              "      <td>BR-RN</td>\n",
              "      <td>37825</td>\n",
              "      <td>{'tags': ['n4']}</td>\n",
              "      <td>Mozilla/5.0 (Linux; Android 6.0; HTC One X10 B...</td>\n",
              "      <td>NaN</td>\n",
              "    </tr>\n",
              "    <tr>\n",
              "      <th>4</th>\n",
              "      <td>9e0eb880-e8f4-3faa-67d8-f5cdd2b3932b</td>\n",
              "      <td>False</td>\n",
              "      <td>8k8UDR4Yx0qasAjkGrUZLw==</td>\n",
              "      <td>+CxEO4w7jv3QPI/BQbyqAA==</td>\n",
              "      <td>500.0</td>\n",
              "      <td>98.474289</td>\n",
              "      <td>0.532539</td>\n",
              "      <td>118.126207</td>\n",
              "      <td>0.18</td>\n",
              "      <td>NaN</td>\n",
              "      <td>...</td>\n",
              "      <td>320</td>\n",
              "      <td>(-16.574259446978008, -39.90990074785962)</td>\n",
              "      <td>Invite-email</td>\n",
              "      <td>102-3660162</td>\n",
              "      <td>198618.0</td>\n",
              "      <td>BR-MT</td>\n",
              "      <td>52827</td>\n",
              "      <td>{'tags': ['pro+aty', 'n19', 'da', 'b19']}</td>\n",
              "      <td>Mozilla/5.0 (Linux; Android 7.0; Pixel C Build...</td>\n",
              "      <td>NaN</td>\n",
              "    </tr>\n",
              "  </tbody>\n",
              "</table>\n",
              "<p>5 rows × 43 columns</p>\n",
              "</div>\n",
              "      <button class=\"colab-df-convert\" onclick=\"convertToInteractive('df-4d96d8e2-86db-48e8-b474-28b9f8227dac')\"\n",
              "              title=\"Convert this dataframe to an interactive table.\"\n",
              "              style=\"display:none;\">\n",
              "        \n",
              "  <svg xmlns=\"http://www.w3.org/2000/svg\" height=\"24px\"viewBox=\"0 0 24 24\"\n",
              "       width=\"24px\">\n",
              "    <path d=\"M0 0h24v24H0V0z\" fill=\"none\"/>\n",
              "    <path d=\"M18.56 5.44l.94 2.06.94-2.06 2.06-.94-2.06-.94-.94-2.06-.94 2.06-2.06.94zm-11 1L8.5 8.5l.94-2.06 2.06-.94-2.06-.94L8.5 2.5l-.94 2.06-2.06.94zm10 10l.94 2.06.94-2.06 2.06-.94-2.06-.94-.94-2.06-.94 2.06-2.06.94z\"/><path d=\"M17.41 7.96l-1.37-1.37c-.4-.4-.92-.59-1.43-.59-.52 0-1.04.2-1.43.59L10.3 9.45l-7.72 7.72c-.78.78-.78 2.05 0 2.83L4 21.41c.39.39.9.59 1.41.59.51 0 1.02-.2 1.41-.59l7.78-7.78 2.81-2.81c.8-.78.8-2.07 0-2.86zM5.41 20L4 18.59l7.72-7.72 1.47 1.35L5.41 20z\"/>\n",
              "  </svg>\n",
              "      </button>\n",
              "      \n",
              "  <style>\n",
              "    .colab-df-container {\n",
              "      display:flex;\n",
              "      flex-wrap:wrap;\n",
              "      gap: 12px;\n",
              "    }\n",
              "\n",
              "    .colab-df-convert {\n",
              "      background-color: #E8F0FE;\n",
              "      border: none;\n",
              "      border-radius: 50%;\n",
              "      cursor: pointer;\n",
              "      display: none;\n",
              "      fill: #1967D2;\n",
              "      height: 32px;\n",
              "      padding: 0 0 0 0;\n",
              "      width: 32px;\n",
              "    }\n",
              "\n",
              "    .colab-df-convert:hover {\n",
              "      background-color: #E2EBFA;\n",
              "      box-shadow: 0px 1px 2px rgba(60, 64, 67, 0.3), 0px 1px 3px 1px rgba(60, 64, 67, 0.15);\n",
              "      fill: #174EA6;\n",
              "    }\n",
              "\n",
              "    [theme=dark] .colab-df-convert {\n",
              "      background-color: #3B4455;\n",
              "      fill: #D2E3FC;\n",
              "    }\n",
              "\n",
              "    [theme=dark] .colab-df-convert:hover {\n",
              "      background-color: #434B5C;\n",
              "      box-shadow: 0px 1px 3px 1px rgba(0, 0, 0, 0.15);\n",
              "      filter: drop-shadow(0px 1px 2px rgba(0, 0, 0, 0.3));\n",
              "      fill: #FFFFFF;\n",
              "    }\n",
              "  </style>\n",
              "\n",
              "      <script>\n",
              "        const buttonEl =\n",
              "          document.querySelector('#df-4d96d8e2-86db-48e8-b474-28b9f8227dac button.colab-df-convert');\n",
              "        buttonEl.style.display =\n",
              "          google.colab.kernel.accessAllowed ? 'block' : 'none';\n",
              "\n",
              "        async function convertToInteractive(key) {\n",
              "          const element = document.querySelector('#df-4d96d8e2-86db-48e8-b474-28b9f8227dac');\n",
              "          const dataTable =\n",
              "            await google.colab.kernel.invokeFunction('convertToInteractive',\n",
              "                                                     [key], {});\n",
              "          if (!dataTable) return;\n",
              "\n",
              "          const docLinkHtml = 'Like what you see? Visit the ' +\n",
              "            '<a target=\"_blank\" href=https://colab.research.google.com/notebooks/data_table.ipynb>data table notebook</a>'\n",
              "            + ' to learn more about interactive tables.';\n",
              "          element.innerHTML = '';\n",
              "          dataTable['output_type'] = 'display_data';\n",
              "          await google.colab.output.renderOutput(dataTable, element);\n",
              "          const docLink = document.createElement('div');\n",
              "          docLink.innerHTML = docLinkHtml;\n",
              "          element.appendChild(docLink);\n",
              "        }\n",
              "      </script>\n",
              "    </div>\n",
              "  </div>\n",
              "  "
            ]
          },
          "metadata": {},
          "execution_count": 3
        }
      ]
    },
    {
      "cell_type": "code",
      "source": [
        "df.columns"
      ],
      "metadata": {
        "colab": {
          "base_uri": "https://localhost:8080/"
        },
        "id": "BeHh309A08Tz",
        "outputId": "0ba4262b-2ca5-4aec-9fd7-c5f0647a9363"
      },
      "execution_count": null,
      "outputs": [
        {
          "output_type": "execute_result",
          "data": {
            "text/plain": [
              "Index(['ids', 'target_default', 'score_1', 'score_2', 'score_3', 'score_4',\n",
              "       'score_5', 'score_6', 'risk_rate', 'last_amount_borrowed',\n",
              "       'last_borrowed_in_months', 'credit_limit', 'reason', 'income',\n",
              "       'facebook_profile', 'state', 'zip', 'channel', 'job_name', 'real_state',\n",
              "       'ok_since', 'n_bankruptcies', 'n_defaulted_loans', 'n_accounts',\n",
              "       'n_issues', 'application_time_applied', 'application_time_in_funnel',\n",
              "       'email', 'external_data_provider_credit_checks_last_2_year',\n",
              "       'external_data_provider_credit_checks_last_month',\n",
              "       'external_data_provider_credit_checks_last_year',\n",
              "       'external_data_provider_email_seen_before',\n",
              "       'external_data_provider_first_name',\n",
              "       'external_data_provider_fraud_score', 'lat_lon', 'marketing_channel',\n",
              "       'profile_phone_number', 'reported_income', 'shipping_state',\n",
              "       'shipping_zip_code', 'profile_tags', 'user_agent', 'target_fraud'],\n",
              "      dtype='object')"
            ]
          },
          "metadata": {},
          "execution_count": 4
        }
      ]
    },
    {
      "cell_type": "markdown",
      "source": [
        "Vemos que o dataset é composto por valores númericos e texto. Aparentemete a única coluna que possui todos os valores preenchidos, é a identificação dos clientes. "
      ],
      "metadata": {
        "id": "FKln5cUuHdfJ"
      }
    },
    {
      "cell_type": "code",
      "source": [
        "df.info()"
      ],
      "metadata": {
        "colab": {
          "base_uri": "https://localhost:8080/"
        },
        "id": "sW6rcHIuPWjX",
        "outputId": "8e47b191-04a8-4501-d3fe-aaee79345552"
      },
      "execution_count": null,
      "outputs": [
        {
          "output_type": "stream",
          "name": "stdout",
          "text": [
            "<class 'pandas.core.frame.DataFrame'>\n",
            "RangeIndex: 45000 entries, 0 to 44999\n",
            "Data columns (total 43 columns):\n",
            " #   Column                                            Non-Null Count  Dtype  \n",
            "---  ------                                            --------------  -----  \n",
            " 0   ids                                               45000 non-null  object \n",
            " 1   target_default                                    41741 non-null  object \n",
            " 2   score_1                                           44438 non-null  object \n",
            " 3   score_2                                           44438 non-null  object \n",
            " 4   score_3                                           44438 non-null  float64\n",
            " 5   score_4                                           45000 non-null  float64\n",
            " 6   score_5                                           45000 non-null  float64\n",
            " 7   score_6                                           45000 non-null  float64\n",
            " 8   risk_rate                                         44438 non-null  float64\n",
            " 9   last_amount_borrowed                              15044 non-null  float64\n",
            " 10  last_borrowed_in_months                           15044 non-null  float64\n",
            " 11  credit_limit                                      31200 non-null  float64\n",
            " 12  reason                                            44434 non-null  object \n",
            " 13  income                                            44438 non-null  float64\n",
            " 14  facebook_profile                                  40542 non-null  object \n",
            " 15  state                                             44438 non-null  object \n",
            " 16  zip                                               44438 non-null  object \n",
            " 17  channel                                           44438 non-null  object \n",
            " 18  job_name                                          41664 non-null  object \n",
            " 19  real_state                                        44438 non-null  object \n",
            " 20  ok_since                                          18455 non-null  float64\n",
            " 21  n_bankruptcies                                    44303 non-null  float64\n",
            " 22  n_defaulted_loans                                 44426 non-null  float64\n",
            " 23  n_accounts                                        44438 non-null  float64\n",
            " 24  n_issues                                          33456 non-null  float64\n",
            " 25  application_time_applied                          45000 non-null  object \n",
            " 26  application_time_in_funnel                        45000 non-null  int64  \n",
            " 27  email                                             45000 non-null  object \n",
            " 28  external_data_provider_credit_checks_last_2_year  22372 non-null  float64\n",
            " 29  external_data_provider_credit_checks_last_month   45000 non-null  int64  \n",
            " 30  external_data_provider_credit_checks_last_year    29876 non-null  float64\n",
            " 31  external_data_provider_email_seen_before          42767 non-null  float64\n",
            " 32  external_data_provider_first_name                 45000 non-null  object \n",
            " 33  external_data_provider_fraud_score                45000 non-null  int64  \n",
            " 34  lat_lon                                           43637 non-null  object \n",
            " 35  marketing_channel                                 41422 non-null  object \n",
            " 36  profile_phone_number                              45000 non-null  object \n",
            " 37  reported_income                                   45000 non-null  float64\n",
            " 38  shipping_state                                    45000 non-null  object \n",
            " 39  shipping_zip_code                                 45000 non-null  int64  \n",
            " 40  profile_tags                                      45000 non-null  object \n",
            " 41  user_agent                                        44278 non-null  object \n",
            " 42  target_fraud                                      1522 non-null   object \n",
            "dtypes: float64(18), int64(4), object(21)\n",
            "memory usage: 14.8+ MB\n"
          ]
        }
      ]
    },
    {
      "cell_type": "markdown",
      "source": [
        "É possivel observar que o dataset possui diversas colunas que valores ausentes. Algumas dessas colunas, por apresentarem grande porcentagem ou por possivelmente não acrescentar informações relevantes serão retiradas do dataset utilizado no treino do modelo. \n",
        "\n",
        "Quanto as valores únicos, algumas colunas, como por exemplo *channel* e *external_data_provider_credit_checks_last_2_year* apresentam apenas um valor, o que não agregar valor para análise. "
      ],
      "metadata": {
        "id": "pYZd8P_KTm5P"
      }
    },
    {
      "cell_type": "code",
      "source": [
        "df.isnull().sum().sort_values(ascending=False)/df.shape[0]"
      ],
      "metadata": {
        "colab": {
          "base_uri": "https://localhost:8080/"
        },
        "id": "mFZ6t6JwPsFG",
        "outputId": "24f4c615-181b-41d9-f9f6-4f7b89637ddd"
      },
      "execution_count": null,
      "outputs": [
        {
          "output_type": "execute_result",
          "data": {
            "text/plain": [
              "target_fraud                                        0.966178\n",
              "last_amount_borrowed                                0.665689\n",
              "last_borrowed_in_months                             0.665689\n",
              "ok_since                                            0.589889\n",
              "external_data_provider_credit_checks_last_2_year    0.502844\n",
              "external_data_provider_credit_checks_last_year      0.336089\n",
              "credit_limit                                        0.306667\n",
              "n_issues                                            0.256533\n",
              "facebook_profile                                    0.099067\n",
              "marketing_channel                                   0.079511\n",
              "job_name                                            0.074133\n",
              "target_default                                      0.072422\n",
              "external_data_provider_email_seen_before            0.049622\n",
              "lat_lon                                             0.030289\n",
              "user_agent                                          0.016044\n",
              "n_bankruptcies                                      0.015489\n",
              "n_defaulted_loans                                   0.012756\n",
              "reason                                              0.012578\n",
              "zip                                                 0.012489\n",
              "n_accounts                                          0.012489\n",
              "channel                                             0.012489\n",
              "score_1                                             0.012489\n",
              "score_3                                             0.012489\n",
              "risk_rate                                           0.012489\n",
              "income                                              0.012489\n",
              "real_state                                          0.012489\n",
              "state                                               0.012489\n",
              "score_2                                             0.012489\n",
              "profile_tags                                        0.000000\n",
              "shipping_zip_code                                   0.000000\n",
              "shipping_state                                      0.000000\n",
              "reported_income                                     0.000000\n",
              "profile_phone_number                                0.000000\n",
              "external_data_provider_credit_checks_last_month     0.000000\n",
              "external_data_provider_fraud_score                  0.000000\n",
              "external_data_provider_first_name                   0.000000\n",
              "score_4                                             0.000000\n",
              "score_5                                             0.000000\n",
              "score_6                                             0.000000\n",
              "email                                               0.000000\n",
              "application_time_in_funnel                          0.000000\n",
              "application_time_applied                            0.000000\n",
              "ids                                                 0.000000\n",
              "dtype: float64"
            ]
          },
          "metadata": {},
          "execution_count": 6
        }
      ]
    },
    {
      "cell_type": "code",
      "source": [
        "df.nunique().sort_values(ascending=False)"
      ],
      "metadata": {
        "id": "-VakBNwPP1If",
        "colab": {
          "base_uri": "https://localhost:8080/"
        },
        "outputId": "893710a3-e201-43bc-c73f-ed67b953d7e8"
      },
      "execution_count": null,
      "outputs": [
        {
          "output_type": "execute_result",
          "data": {
            "text/plain": [
              "ids                                                 45000\n",
              "profile_phone_number                                45000\n",
              "score_4                                             45000\n",
              "score_5                                             45000\n",
              "score_6                                             45000\n",
              "income                                              41211\n",
              "reported_income                                     40025\n",
              "application_time_applied                            35543\n",
              "external_data_provider_first_name                   32886\n",
              "job_name                                            32265\n",
              "shipping_zip_code                                   28263\n",
              "profile_tags                                        26131\n",
              "lat_lon                                             22412\n",
              "credit_limit                                        20928\n",
              "reason                                              14874\n",
              "last_amount_borrowed                                14325\n",
              "external_data_provider_fraud_score                   1001\n",
              "zip                                                   823\n",
              "application_time_in_funnel                            501\n",
              "user_agent                                            297\n",
              "ok_since                                              100\n",
              "score_3                                                88\n",
              "risk_rate                                              82\n",
              "external_data_provider_email_seen_before               62\n",
              "state                                                  50\n",
              "n_accounts                                             44\n",
              "n_issues                                               44\n",
              "score_2                                                35\n",
              "shipping_state                                         25\n",
              "marketing_channel                                       9\n",
              "score_1                                                 7\n",
              "n_bankruptcies                                          6\n",
              "email                                                   6\n",
              "n_defaulted_loans                                       5\n",
              "real_state                                              5\n",
              "external_data_provider_credit_checks_last_month         4\n",
              "external_data_provider_credit_checks_last_year          2\n",
              "target_default                                          2\n",
              "facebook_profile                                        2\n",
              "last_borrowed_in_months                                 2\n",
              "target_fraud                                            2\n",
              "external_data_provider_credit_checks_last_2_year        1\n",
              "channel                                                 1\n",
              "dtype: int64"
            ]
          },
          "metadata": {},
          "execution_count": 7
        }
      ]
    },
    {
      "cell_type": "markdown",
      "source": [
        "Para facilitar a visualização das variáveis do tipo objeto, selecionei-as aplicando o método select_dtypes. Desta forma conseguimos ter visão clara das variáveis codificidas. ids, score_1, score_2, reason, facebook_profile, state, zip, channel, job_name, real_state, essas colunas possivelmente serão retiradas do dataset "
      ],
      "metadata": {
        "id": "YDBTzKrKkwUn"
      }
    },
    {
      "cell_type": "code",
      "source": [
        "a = df.select_dtypes(include=['object'])\n",
        "a.head()"
      ],
      "metadata": {
        "colab": {
          "base_uri": "https://localhost:8080/",
          "height": 699
        },
        "id": "h1Hs-h9ahJSY",
        "outputId": "16777a59-87e9-4046-abd1-45f392769a2c"
      },
      "execution_count": null,
      "outputs": [
        {
          "output_type": "execute_result",
          "data": {
            "text/plain": [
              "                                    ids target_default  \\\n",
              "0  343b7e7b-2cf8-e508-b8fd-0a0285af30aa          False   \n",
              "1  bc2c7502-bbad-0f8c-39c3-94e881967124          False   \n",
              "2  669630dd-2e6a-0396-84bf-455e5009c922           True   \n",
              "3  d235609e-b6cb-0ccc-a329-d4f12e7ebdc1          False   \n",
              "4  9e0eb880-e8f4-3faa-67d8-f5cdd2b3932b          False   \n",
              "\n",
              "                    score_1                   score_2  \\\n",
              "0  1Rk8w4Ucd5yR3KcqZzLdow==  IOVu8au3ISbo6+zmfnYwMg==   \n",
              "1  DGCQep2AE5QRkNCshIAlFQ==  SaamrHMo23l/3TwXOWgVzw==   \n",
              "2  DGCQep2AE5QRkNCshIAlFQ==  Fv28Bz0YRTVAT5kl1bAV6g==   \n",
              "3  1Rk8w4Ucd5yR3KcqZzLdow==  dCm9hFKfdRm7ej3jW+gyxw==   \n",
              "4  8k8UDR4Yx0qasAjkGrUZLw==  +CxEO4w7jv3QPI/BQbyqAA==   \n",
              "\n",
              "                                              reason facebook_profile  \\\n",
              "0  mLVIVxoGY7TUDJ1FyFoSIZi1SFcaBmO01AydRchaEiGYtU...             True   \n",
              "1  mLVIVxoGY7TUDJ1FyFoSIZi1SFcaBmO01AydRchaEiGYtU...            False   \n",
              "2  mLVIVxoGY7TUDJ1FyFoSIZi1SFcaBmO01AydRchaEiGYtU...              NaN   \n",
              "3  mLVIVxoGY7TUDJ1FyFoSIZi1SFcaBmO01AydRchaEiGYtU...            False   \n",
              "4  mLVIVxoGY7TUDJ1FyFoSIZi1SFcaBmO01AydRchaEiGYtU...             True   \n",
              "\n",
              "                      state                       zip  \\\n",
              "0  sjJbkqJS7cXalHLBFA+EOQ==  Ernn+uVXCMq/6ARrBCcd+A==   \n",
              "1  xsd3ZdsI3356I3xMxZeiqQ==  rlWIXTBO+VOa34+SpGyhlQ==   \n",
              "2  Ygq6MsM98oC8yceExr69Ig==  PjTIDfJsK0DKL9fO7vuW2g==   \n",
              "3  KET/Pmr6rHp1RJ/P9ymztw==  Cc/kWDLQH3dpHv5HU+pLVA==   \n",
              "4  xsd3ZdsI3356I3xMxZeiqQ==  i036nmJ7rfxo+3EvCD7Jnw==   \n",
              "\n",
              "                    channel  \\\n",
              "0  NCqL3QBx0pscDnx3ixKwXg==   \n",
              "1  NCqL3QBx0pscDnx3ixKwXg==   \n",
              "2  NCqL3QBx0pscDnx3ixKwXg==   \n",
              "3  NCqL3QBx0pscDnx3ixKwXg==   \n",
              "4  NCqL3QBx0pscDnx3ixKwXg==   \n",
              "\n",
              "                                            job_name  ...  \\\n",
              "0  mLVIVxoGY7TUDJ1FyFoSIZi1SFcaBmO01AydRchaEiGYtU...  ...   \n",
              "1  mLVIVxoGY7TUDJ1FyFoSIZi1SFcaBmO01AydRchaEiGYtU...  ...   \n",
              "2  mLVIVxoGY7TUDJ1FyFoSIZi1SFcaBmO01AydRchaEiGYtU...  ...   \n",
              "3  mLVIVxoGY7TUDJ1FyFoSIZi1SFcaBmO01AydRchaEiE56f...  ...   \n",
              "4  mLVIVxoGY7TUDJ1FyFoSIZi1SFcaBmO01AydRchaEiGYtU...  ...   \n",
              "\n",
              "  application_time_applied        email external_data_provider_first_name  \\\n",
              "0                 07:52:34  outlook.com                        leidelaura   \n",
              "1                 02:34:29    gmail.com                          diocezio   \n",
              "2                 00:60:02    gmail.com                         veralucia   \n",
              "3                 11:20:49    spgov.com                            venice   \n",
              "4                 13:39:03    gmail.com                           darzisa   \n",
              "\n",
              "                                      lat_lon marketing_channel  \\\n",
              "0    (-29.151545708122246, -51.1386461804385)      Invite-email   \n",
              "1   (-19.687710705798963, -47.94151536525154)  Radio-commercial   \n",
              "2  (-28.748023890412284, -51.867279334353995)      Waiting-list   \n",
              "3   (-17.520650158450454, -39.75801139933186)      Waiting-list   \n",
              "4   (-16.574259446978008, -39.90990074785962)      Invite-email   \n",
              "\n",
              "  profile_phone_number shipping_state  \\\n",
              "0          514-9840782          BR-MT   \n",
              "1          251-3659293          BR-RS   \n",
              "2          230-6097993          BR-RR   \n",
              "3          261-3543751          BR-RN   \n",
              "4          102-3660162          BR-MT   \n",
              "\n",
              "                                profile_tags  \\\n",
              "0                    {'tags': ['n19', 'n8']}   \n",
              "1              {'tags': ['n6', 'n7', 'nim']}   \n",
              "2       {'tags': ['n0', 'n17', 'nim', 'da']}   \n",
              "3                           {'tags': ['n4']}   \n",
              "4  {'tags': ['pro+aty', 'n19', 'da', 'b19']}   \n",
              "\n",
              "                                          user_agent target_fraud  \n",
              "0  Mozilla/5.0 (Linux; Android 6.0.1; SGP771 Buil...          NaN  \n",
              "1  Mozilla/5.0 (Linux; Android 5.0.2; SAMSUNG SM-...          NaN  \n",
              "2  Mozilla/5.0 (Linux; Android 6.0.1; SGP771 Buil...          NaN  \n",
              "3  Mozilla/5.0 (Linux; Android 6.0; HTC One X10 B...          NaN  \n",
              "4  Mozilla/5.0 (Linux; Android 7.0; Pixel C Build...          NaN  \n",
              "\n",
              "[5 rows x 21 columns]"
            ],
            "text/html": [
              "\n",
              "  <div id=\"df-eaba38da-0382-44aa-acdd-d2672d66d675\">\n",
              "    <div class=\"colab-df-container\">\n",
              "      <div>\n",
              "<style scoped>\n",
              "    .dataframe tbody tr th:only-of-type {\n",
              "        vertical-align: middle;\n",
              "    }\n",
              "\n",
              "    .dataframe tbody tr th {\n",
              "        vertical-align: top;\n",
              "    }\n",
              "\n",
              "    .dataframe thead th {\n",
              "        text-align: right;\n",
              "    }\n",
              "</style>\n",
              "<table border=\"1\" class=\"dataframe\">\n",
              "  <thead>\n",
              "    <tr style=\"text-align: right;\">\n",
              "      <th></th>\n",
              "      <th>ids</th>\n",
              "      <th>target_default</th>\n",
              "      <th>score_1</th>\n",
              "      <th>score_2</th>\n",
              "      <th>reason</th>\n",
              "      <th>facebook_profile</th>\n",
              "      <th>state</th>\n",
              "      <th>zip</th>\n",
              "      <th>channel</th>\n",
              "      <th>job_name</th>\n",
              "      <th>...</th>\n",
              "      <th>application_time_applied</th>\n",
              "      <th>email</th>\n",
              "      <th>external_data_provider_first_name</th>\n",
              "      <th>lat_lon</th>\n",
              "      <th>marketing_channel</th>\n",
              "      <th>profile_phone_number</th>\n",
              "      <th>shipping_state</th>\n",
              "      <th>profile_tags</th>\n",
              "      <th>user_agent</th>\n",
              "      <th>target_fraud</th>\n",
              "    </tr>\n",
              "  </thead>\n",
              "  <tbody>\n",
              "    <tr>\n",
              "      <th>0</th>\n",
              "      <td>343b7e7b-2cf8-e508-b8fd-0a0285af30aa</td>\n",
              "      <td>False</td>\n",
              "      <td>1Rk8w4Ucd5yR3KcqZzLdow==</td>\n",
              "      <td>IOVu8au3ISbo6+zmfnYwMg==</td>\n",
              "      <td>mLVIVxoGY7TUDJ1FyFoSIZi1SFcaBmO01AydRchaEiGYtU...</td>\n",
              "      <td>True</td>\n",
              "      <td>sjJbkqJS7cXalHLBFA+EOQ==</td>\n",
              "      <td>Ernn+uVXCMq/6ARrBCcd+A==</td>\n",
              "      <td>NCqL3QBx0pscDnx3ixKwXg==</td>\n",
              "      <td>mLVIVxoGY7TUDJ1FyFoSIZi1SFcaBmO01AydRchaEiGYtU...</td>\n",
              "      <td>...</td>\n",
              "      <td>07:52:34</td>\n",
              "      <td>outlook.com</td>\n",
              "      <td>leidelaura</td>\n",
              "      <td>(-29.151545708122246, -51.1386461804385)</td>\n",
              "      <td>Invite-email</td>\n",
              "      <td>514-9840782</td>\n",
              "      <td>BR-MT</td>\n",
              "      <td>{'tags': ['n19', 'n8']}</td>\n",
              "      <td>Mozilla/5.0 (Linux; Android 6.0.1; SGP771 Buil...</td>\n",
              "      <td>NaN</td>\n",
              "    </tr>\n",
              "    <tr>\n",
              "      <th>1</th>\n",
              "      <td>bc2c7502-bbad-0f8c-39c3-94e881967124</td>\n",
              "      <td>False</td>\n",
              "      <td>DGCQep2AE5QRkNCshIAlFQ==</td>\n",
              "      <td>SaamrHMo23l/3TwXOWgVzw==</td>\n",
              "      <td>mLVIVxoGY7TUDJ1FyFoSIZi1SFcaBmO01AydRchaEiGYtU...</td>\n",
              "      <td>False</td>\n",
              "      <td>xsd3ZdsI3356I3xMxZeiqQ==</td>\n",
              "      <td>rlWIXTBO+VOa34+SpGyhlQ==</td>\n",
              "      <td>NCqL3QBx0pscDnx3ixKwXg==</td>\n",
              "      <td>mLVIVxoGY7TUDJ1FyFoSIZi1SFcaBmO01AydRchaEiGYtU...</td>\n",
              "      <td>...</td>\n",
              "      <td>02:34:29</td>\n",
              "      <td>gmail.com</td>\n",
              "      <td>diocezio</td>\n",
              "      <td>(-19.687710705798963, -47.94151536525154)</td>\n",
              "      <td>Radio-commercial</td>\n",
              "      <td>251-3659293</td>\n",
              "      <td>BR-RS</td>\n",
              "      <td>{'tags': ['n6', 'n7', 'nim']}</td>\n",
              "      <td>Mozilla/5.0 (Linux; Android 5.0.2; SAMSUNG SM-...</td>\n",
              "      <td>NaN</td>\n",
              "    </tr>\n",
              "    <tr>\n",
              "      <th>2</th>\n",
              "      <td>669630dd-2e6a-0396-84bf-455e5009c922</td>\n",
              "      <td>True</td>\n",
              "      <td>DGCQep2AE5QRkNCshIAlFQ==</td>\n",
              "      <td>Fv28Bz0YRTVAT5kl1bAV6g==</td>\n",
              "      <td>mLVIVxoGY7TUDJ1FyFoSIZi1SFcaBmO01AydRchaEiGYtU...</td>\n",
              "      <td>NaN</td>\n",
              "      <td>Ygq6MsM98oC8yceExr69Ig==</td>\n",
              "      <td>PjTIDfJsK0DKL9fO7vuW2g==</td>\n",
              "      <td>NCqL3QBx0pscDnx3ixKwXg==</td>\n",
              "      <td>mLVIVxoGY7TUDJ1FyFoSIZi1SFcaBmO01AydRchaEiGYtU...</td>\n",
              "      <td>...</td>\n",
              "      <td>00:60:02</td>\n",
              "      <td>gmail.com</td>\n",
              "      <td>veralucia</td>\n",
              "      <td>(-28.748023890412284, -51.867279334353995)</td>\n",
              "      <td>Waiting-list</td>\n",
              "      <td>230-6097993</td>\n",
              "      <td>BR-RR</td>\n",
              "      <td>{'tags': ['n0', 'n17', 'nim', 'da']}</td>\n",
              "      <td>Mozilla/5.0 (Linux; Android 6.0.1; SGP771 Buil...</td>\n",
              "      <td>NaN</td>\n",
              "    </tr>\n",
              "    <tr>\n",
              "      <th>3</th>\n",
              "      <td>d235609e-b6cb-0ccc-a329-d4f12e7ebdc1</td>\n",
              "      <td>False</td>\n",
              "      <td>1Rk8w4Ucd5yR3KcqZzLdow==</td>\n",
              "      <td>dCm9hFKfdRm7ej3jW+gyxw==</td>\n",
              "      <td>mLVIVxoGY7TUDJ1FyFoSIZi1SFcaBmO01AydRchaEiGYtU...</td>\n",
              "      <td>False</td>\n",
              "      <td>KET/Pmr6rHp1RJ/P9ymztw==</td>\n",
              "      <td>Cc/kWDLQH3dpHv5HU+pLVA==</td>\n",
              "      <td>NCqL3QBx0pscDnx3ixKwXg==</td>\n",
              "      <td>mLVIVxoGY7TUDJ1FyFoSIZi1SFcaBmO01AydRchaEiE56f...</td>\n",
              "      <td>...</td>\n",
              "      <td>11:20:49</td>\n",
              "      <td>spgov.com</td>\n",
              "      <td>venice</td>\n",
              "      <td>(-17.520650158450454, -39.75801139933186)</td>\n",
              "      <td>Waiting-list</td>\n",
              "      <td>261-3543751</td>\n",
              "      <td>BR-RN</td>\n",
              "      <td>{'tags': ['n4']}</td>\n",
              "      <td>Mozilla/5.0 (Linux; Android 6.0; HTC One X10 B...</td>\n",
              "      <td>NaN</td>\n",
              "    </tr>\n",
              "    <tr>\n",
              "      <th>4</th>\n",
              "      <td>9e0eb880-e8f4-3faa-67d8-f5cdd2b3932b</td>\n",
              "      <td>False</td>\n",
              "      <td>8k8UDR4Yx0qasAjkGrUZLw==</td>\n",
              "      <td>+CxEO4w7jv3QPI/BQbyqAA==</td>\n",
              "      <td>mLVIVxoGY7TUDJ1FyFoSIZi1SFcaBmO01AydRchaEiGYtU...</td>\n",
              "      <td>True</td>\n",
              "      <td>xsd3ZdsI3356I3xMxZeiqQ==</td>\n",
              "      <td>i036nmJ7rfxo+3EvCD7Jnw==</td>\n",
              "      <td>NCqL3QBx0pscDnx3ixKwXg==</td>\n",
              "      <td>mLVIVxoGY7TUDJ1FyFoSIZi1SFcaBmO01AydRchaEiGYtU...</td>\n",
              "      <td>...</td>\n",
              "      <td>13:39:03</td>\n",
              "      <td>gmail.com</td>\n",
              "      <td>darzisa</td>\n",
              "      <td>(-16.574259446978008, -39.90990074785962)</td>\n",
              "      <td>Invite-email</td>\n",
              "      <td>102-3660162</td>\n",
              "      <td>BR-MT</td>\n",
              "      <td>{'tags': ['pro+aty', 'n19', 'da', 'b19']}</td>\n",
              "      <td>Mozilla/5.0 (Linux; Android 7.0; Pixel C Build...</td>\n",
              "      <td>NaN</td>\n",
              "    </tr>\n",
              "  </tbody>\n",
              "</table>\n",
              "<p>5 rows × 21 columns</p>\n",
              "</div>\n",
              "      <button class=\"colab-df-convert\" onclick=\"convertToInteractive('df-eaba38da-0382-44aa-acdd-d2672d66d675')\"\n",
              "              title=\"Convert this dataframe to an interactive table.\"\n",
              "              style=\"display:none;\">\n",
              "        \n",
              "  <svg xmlns=\"http://www.w3.org/2000/svg\" height=\"24px\"viewBox=\"0 0 24 24\"\n",
              "       width=\"24px\">\n",
              "    <path d=\"M0 0h24v24H0V0z\" fill=\"none\"/>\n",
              "    <path d=\"M18.56 5.44l.94 2.06.94-2.06 2.06-.94-2.06-.94-.94-2.06-.94 2.06-2.06.94zm-11 1L8.5 8.5l.94-2.06 2.06-.94-2.06-.94L8.5 2.5l-.94 2.06-2.06.94zm10 10l.94 2.06.94-2.06 2.06-.94-2.06-.94-.94-2.06-.94 2.06-2.06.94z\"/><path d=\"M17.41 7.96l-1.37-1.37c-.4-.4-.92-.59-1.43-.59-.52 0-1.04.2-1.43.59L10.3 9.45l-7.72 7.72c-.78.78-.78 2.05 0 2.83L4 21.41c.39.39.9.59 1.41.59.51 0 1.02-.2 1.41-.59l7.78-7.78 2.81-2.81c.8-.78.8-2.07 0-2.86zM5.41 20L4 18.59l7.72-7.72 1.47 1.35L5.41 20z\"/>\n",
              "  </svg>\n",
              "      </button>\n",
              "      \n",
              "  <style>\n",
              "    .colab-df-container {\n",
              "      display:flex;\n",
              "      flex-wrap:wrap;\n",
              "      gap: 12px;\n",
              "    }\n",
              "\n",
              "    .colab-df-convert {\n",
              "      background-color: #E8F0FE;\n",
              "      border: none;\n",
              "      border-radius: 50%;\n",
              "      cursor: pointer;\n",
              "      display: none;\n",
              "      fill: #1967D2;\n",
              "      height: 32px;\n",
              "      padding: 0 0 0 0;\n",
              "      width: 32px;\n",
              "    }\n",
              "\n",
              "    .colab-df-convert:hover {\n",
              "      background-color: #E2EBFA;\n",
              "      box-shadow: 0px 1px 2px rgba(60, 64, 67, 0.3), 0px 1px 3px 1px rgba(60, 64, 67, 0.15);\n",
              "      fill: #174EA6;\n",
              "    }\n",
              "\n",
              "    [theme=dark] .colab-df-convert {\n",
              "      background-color: #3B4455;\n",
              "      fill: #D2E3FC;\n",
              "    }\n",
              "\n",
              "    [theme=dark] .colab-df-convert:hover {\n",
              "      background-color: #434B5C;\n",
              "      box-shadow: 0px 1px 3px 1px rgba(0, 0, 0, 0.15);\n",
              "      filter: drop-shadow(0px 1px 2px rgba(0, 0, 0, 0.3));\n",
              "      fill: #FFFFFF;\n",
              "    }\n",
              "  </style>\n",
              "\n",
              "      <script>\n",
              "        const buttonEl =\n",
              "          document.querySelector('#df-eaba38da-0382-44aa-acdd-d2672d66d675 button.colab-df-convert');\n",
              "        buttonEl.style.display =\n",
              "          google.colab.kernel.accessAllowed ? 'block' : 'none';\n",
              "\n",
              "        async function convertToInteractive(key) {\n",
              "          const element = document.querySelector('#df-eaba38da-0382-44aa-acdd-d2672d66d675');\n",
              "          const dataTable =\n",
              "            await google.colab.kernel.invokeFunction('convertToInteractive',\n",
              "                                                     [key], {});\n",
              "          if (!dataTable) return;\n",
              "\n",
              "          const docLinkHtml = 'Like what you see? Visit the ' +\n",
              "            '<a target=\"_blank\" href=https://colab.research.google.com/notebooks/data_table.ipynb>data table notebook</a>'\n",
              "            + ' to learn more about interactive tables.';\n",
              "          element.innerHTML = '';\n",
              "          dataTable['output_type'] = 'display_data';\n",
              "          await google.colab.output.renderOutput(dataTable, element);\n",
              "          const docLink = document.createElement('div');\n",
              "          docLink.innerHTML = docLinkHtml;\n",
              "          element.appendChild(docLink);\n",
              "        }\n",
              "      </script>\n",
              "    </div>\n",
              "  </div>\n",
              "  "
            ]
          },
          "metadata": {},
          "execution_count": 8
        }
      ]
    },
    {
      "cell_type": "markdown",
      "source": [
        "Com o descritivo estatítico para as variáveis numéricas, vemos algumas informações estranhas. Na coluna *reported_income* o valor máxim oé preenchido com \"inf\", pode ser uma informação preenchida de forma incorreta. Na coluna *credit_limit* o valor minímo é de zero, o que não condiz com a realidade."
      ],
      "metadata": {
        "id": "4kvuTl2NVMl4"
      }
    },
    {
      "cell_type": "code",
      "source": [
        "df.describe()"
      ],
      "metadata": {
        "colab": {
          "base_uri": "https://localhost:8080/",
          "height": 394
        },
        "id": "2z26HmNqulnm",
        "outputId": "ac6c7a06-822c-49ed-e491-c0dc029c928d"
      },
      "execution_count": null,
      "outputs": [
        {
          "output_type": "execute_result",
          "data": {
            "text/plain": [
              "            score_3       score_4       score_5       score_6     risk_rate  \\\n",
              "count  44438.000000  45000.000000  45000.000000  45000.000000  44438.000000   \n",
              "mean     347.983258    100.006797      0.500037     99.925228      0.296717   \n",
              "std      110.429165      3.178080      0.288326     10.016549      0.101933   \n",
              "min        0.000000     86.191572      0.000035     60.663039      0.000000   \n",
              "25%      270.000000     97.867036      0.252150     93.198353      0.220000   \n",
              "50%      340.000000    100.018900      0.500753     99.974796      0.290000   \n",
              "75%      420.000000    102.141797      0.748816    106.640275      0.360000   \n",
              "max      990.000000    113.978234      0.999973    142.192400      0.900000   \n",
              "\n",
              "       last_amount_borrowed  last_borrowed_in_months   credit_limit  \\\n",
              "count          15044.000000             15044.000000   31200.000000   \n",
              "mean           13782.341991                41.763893   34381.951154   \n",
              "std             8077.571933                10.252705   36586.982218   \n",
              "min             1005.180000                36.000000       0.000000   \n",
              "25%             7519.502500                36.000000   10000.000000   \n",
              "50%            12023.465000                36.000000   25647.000000   \n",
              "75%            19220.270000                36.000000   47086.750000   \n",
              "max            35059.600000                60.000000  448269.000000   \n",
              "\n",
              "             income      ok_since  ...    n_accounts      n_issues  \\\n",
              "count  4.443800e+04  18455.000000  ...  44438.000000  33456.000000   \n",
              "mean   7.160739e+04     35.069737  ...     10.696701     11.068119   \n",
              "std    5.185897e+04     21.663194  ...      4.592463      4.595501   \n",
              "min    4.821180e+03      0.000000  ...      0.000000      0.000000   \n",
              "25%    4.501078e+04     17.000000  ...      7.000000      8.000000   \n",
              "50%    6.126676e+04     32.000000  ...     10.000000     10.000000   \n",
              "75%    8.601923e+04     50.000000  ...     13.000000     14.000000   \n",
              "max    5.000028e+06    141.000000  ...     49.000000     49.000000   \n",
              "\n",
              "       application_time_in_funnel  \\\n",
              "count                45000.000000   \n",
              "mean                   247.537000   \n",
              "std                    146.118398   \n",
              "min                      0.000000   \n",
              "25%                    120.000000   \n",
              "50%                    248.000000   \n",
              "75%                    375.000000   \n",
              "max                    500.000000   \n",
              "\n",
              "       external_data_provider_credit_checks_last_2_year  \\\n",
              "count                                           22372.0   \n",
              "mean                                                0.0   \n",
              "std                                                 0.0   \n",
              "min                                                 0.0   \n",
              "25%                                                 0.0   \n",
              "50%                                                 0.0   \n",
              "75%                                                 0.0   \n",
              "max                                                 0.0   \n",
              "\n",
              "       external_data_provider_credit_checks_last_month  \\\n",
              "count                                     45000.000000   \n",
              "mean                                          1.501067   \n",
              "std                                           1.114941   \n",
              "min                                           0.000000   \n",
              "25%                                           1.000000   \n",
              "50%                                           2.000000   \n",
              "75%                                           2.000000   \n",
              "max                                           3.000000   \n",
              "\n",
              "       external_data_provider_credit_checks_last_year  \\\n",
              "count                                    29876.000000   \n",
              "mean                                         0.503381   \n",
              "std                                          0.499997   \n",
              "min                                          0.000000   \n",
              "25%                                          0.000000   \n",
              "50%                                          1.000000   \n",
              "75%                                          1.000000   \n",
              "max                                          1.000000   \n",
              "\n",
              "       external_data_provider_email_seen_before  \\\n",
              "count                              42767.000000   \n",
              "mean                                  12.534781   \n",
              "std                                  126.530487   \n",
              "min                                 -999.000000   \n",
              "25%                                   11.000000   \n",
              "50%                                   27.000000   \n",
              "75%                                   43.000000   \n",
              "max                                   59.000000   \n",
              "\n",
              "       external_data_provider_fraud_score  reported_income  shipping_zip_code  \n",
              "count                        45000.000000         45000.00       45000.000000  \n",
              "mean                           500.399800              inf       33923.514844  \n",
              "std                            287.968873              NaN       12692.406382  \n",
              "min                              0.000000           403.00       12001.000000  \n",
              "25%                            252.000000         50948.25       22937.000000  \n",
              "50%                            503.000000        101779.00       33896.000000  \n",
              "75%                            747.000000        151337.25       44910.000000  \n",
              "max                           1000.000000              inf       56000.000000  \n",
              "\n",
              "[8 rows x 22 columns]"
            ],
            "text/html": [
              "\n",
              "  <div id=\"df-d9b8fbc3-01ee-42a4-8afa-143e5a81df6d\">\n",
              "    <div class=\"colab-df-container\">\n",
              "      <div>\n",
              "<style scoped>\n",
              "    .dataframe tbody tr th:only-of-type {\n",
              "        vertical-align: middle;\n",
              "    }\n",
              "\n",
              "    .dataframe tbody tr th {\n",
              "        vertical-align: top;\n",
              "    }\n",
              "\n",
              "    .dataframe thead th {\n",
              "        text-align: right;\n",
              "    }\n",
              "</style>\n",
              "<table border=\"1\" class=\"dataframe\">\n",
              "  <thead>\n",
              "    <tr style=\"text-align: right;\">\n",
              "      <th></th>\n",
              "      <th>score_3</th>\n",
              "      <th>score_4</th>\n",
              "      <th>score_5</th>\n",
              "      <th>score_6</th>\n",
              "      <th>risk_rate</th>\n",
              "      <th>last_amount_borrowed</th>\n",
              "      <th>last_borrowed_in_months</th>\n",
              "      <th>credit_limit</th>\n",
              "      <th>income</th>\n",
              "      <th>ok_since</th>\n",
              "      <th>...</th>\n",
              "      <th>n_accounts</th>\n",
              "      <th>n_issues</th>\n",
              "      <th>application_time_in_funnel</th>\n",
              "      <th>external_data_provider_credit_checks_last_2_year</th>\n",
              "      <th>external_data_provider_credit_checks_last_month</th>\n",
              "      <th>external_data_provider_credit_checks_last_year</th>\n",
              "      <th>external_data_provider_email_seen_before</th>\n",
              "      <th>external_data_provider_fraud_score</th>\n",
              "      <th>reported_income</th>\n",
              "      <th>shipping_zip_code</th>\n",
              "    </tr>\n",
              "  </thead>\n",
              "  <tbody>\n",
              "    <tr>\n",
              "      <th>count</th>\n",
              "      <td>44438.000000</td>\n",
              "      <td>45000.000000</td>\n",
              "      <td>45000.000000</td>\n",
              "      <td>45000.000000</td>\n",
              "      <td>44438.000000</td>\n",
              "      <td>15044.000000</td>\n",
              "      <td>15044.000000</td>\n",
              "      <td>31200.000000</td>\n",
              "      <td>4.443800e+04</td>\n",
              "      <td>18455.000000</td>\n",
              "      <td>...</td>\n",
              "      <td>44438.000000</td>\n",
              "      <td>33456.000000</td>\n",
              "      <td>45000.000000</td>\n",
              "      <td>22372.0</td>\n",
              "      <td>45000.000000</td>\n",
              "      <td>29876.000000</td>\n",
              "      <td>42767.000000</td>\n",
              "      <td>45000.000000</td>\n",
              "      <td>45000.00</td>\n",
              "      <td>45000.000000</td>\n",
              "    </tr>\n",
              "    <tr>\n",
              "      <th>mean</th>\n",
              "      <td>347.983258</td>\n",
              "      <td>100.006797</td>\n",
              "      <td>0.500037</td>\n",
              "      <td>99.925228</td>\n",
              "      <td>0.296717</td>\n",
              "      <td>13782.341991</td>\n",
              "      <td>41.763893</td>\n",
              "      <td>34381.951154</td>\n",
              "      <td>7.160739e+04</td>\n",
              "      <td>35.069737</td>\n",
              "      <td>...</td>\n",
              "      <td>10.696701</td>\n",
              "      <td>11.068119</td>\n",
              "      <td>247.537000</td>\n",
              "      <td>0.0</td>\n",
              "      <td>1.501067</td>\n",
              "      <td>0.503381</td>\n",
              "      <td>12.534781</td>\n",
              "      <td>500.399800</td>\n",
              "      <td>inf</td>\n",
              "      <td>33923.514844</td>\n",
              "    </tr>\n",
              "    <tr>\n",
              "      <th>std</th>\n",
              "      <td>110.429165</td>\n",
              "      <td>3.178080</td>\n",
              "      <td>0.288326</td>\n",
              "      <td>10.016549</td>\n",
              "      <td>0.101933</td>\n",
              "      <td>8077.571933</td>\n",
              "      <td>10.252705</td>\n",
              "      <td>36586.982218</td>\n",
              "      <td>5.185897e+04</td>\n",
              "      <td>21.663194</td>\n",
              "      <td>...</td>\n",
              "      <td>4.592463</td>\n",
              "      <td>4.595501</td>\n",
              "      <td>146.118398</td>\n",
              "      <td>0.0</td>\n",
              "      <td>1.114941</td>\n",
              "      <td>0.499997</td>\n",
              "      <td>126.530487</td>\n",
              "      <td>287.968873</td>\n",
              "      <td>NaN</td>\n",
              "      <td>12692.406382</td>\n",
              "    </tr>\n",
              "    <tr>\n",
              "      <th>min</th>\n",
              "      <td>0.000000</td>\n",
              "      <td>86.191572</td>\n",
              "      <td>0.000035</td>\n",
              "      <td>60.663039</td>\n",
              "      <td>0.000000</td>\n",
              "      <td>1005.180000</td>\n",
              "      <td>36.000000</td>\n",
              "      <td>0.000000</td>\n",
              "      <td>4.821180e+03</td>\n",
              "      <td>0.000000</td>\n",
              "      <td>...</td>\n",
              "      <td>0.000000</td>\n",
              "      <td>0.000000</td>\n",
              "      <td>0.000000</td>\n",
              "      <td>0.0</td>\n",
              "      <td>0.000000</td>\n",
              "      <td>0.000000</td>\n",
              "      <td>-999.000000</td>\n",
              "      <td>0.000000</td>\n",
              "      <td>403.00</td>\n",
              "      <td>12001.000000</td>\n",
              "    </tr>\n",
              "    <tr>\n",
              "      <th>25%</th>\n",
              "      <td>270.000000</td>\n",
              "      <td>97.867036</td>\n",
              "      <td>0.252150</td>\n",
              "      <td>93.198353</td>\n",
              "      <td>0.220000</td>\n",
              "      <td>7519.502500</td>\n",
              "      <td>36.000000</td>\n",
              "      <td>10000.000000</td>\n",
              "      <td>4.501078e+04</td>\n",
              "      <td>17.000000</td>\n",
              "      <td>...</td>\n",
              "      <td>7.000000</td>\n",
              "      <td>8.000000</td>\n",
              "      <td>120.000000</td>\n",
              "      <td>0.0</td>\n",
              "      <td>1.000000</td>\n",
              "      <td>0.000000</td>\n",
              "      <td>11.000000</td>\n",
              "      <td>252.000000</td>\n",
              "      <td>50948.25</td>\n",
              "      <td>22937.000000</td>\n",
              "    </tr>\n",
              "    <tr>\n",
              "      <th>50%</th>\n",
              "      <td>340.000000</td>\n",
              "      <td>100.018900</td>\n",
              "      <td>0.500753</td>\n",
              "      <td>99.974796</td>\n",
              "      <td>0.290000</td>\n",
              "      <td>12023.465000</td>\n",
              "      <td>36.000000</td>\n",
              "      <td>25647.000000</td>\n",
              "      <td>6.126676e+04</td>\n",
              "      <td>32.000000</td>\n",
              "      <td>...</td>\n",
              "      <td>10.000000</td>\n",
              "      <td>10.000000</td>\n",
              "      <td>248.000000</td>\n",
              "      <td>0.0</td>\n",
              "      <td>2.000000</td>\n",
              "      <td>1.000000</td>\n",
              "      <td>27.000000</td>\n",
              "      <td>503.000000</td>\n",
              "      <td>101779.00</td>\n",
              "      <td>33896.000000</td>\n",
              "    </tr>\n",
              "    <tr>\n",
              "      <th>75%</th>\n",
              "      <td>420.000000</td>\n",
              "      <td>102.141797</td>\n",
              "      <td>0.748816</td>\n",
              "      <td>106.640275</td>\n",
              "      <td>0.360000</td>\n",
              "      <td>19220.270000</td>\n",
              "      <td>36.000000</td>\n",
              "      <td>47086.750000</td>\n",
              "      <td>8.601923e+04</td>\n",
              "      <td>50.000000</td>\n",
              "      <td>...</td>\n",
              "      <td>13.000000</td>\n",
              "      <td>14.000000</td>\n",
              "      <td>375.000000</td>\n",
              "      <td>0.0</td>\n",
              "      <td>2.000000</td>\n",
              "      <td>1.000000</td>\n",
              "      <td>43.000000</td>\n",
              "      <td>747.000000</td>\n",
              "      <td>151337.25</td>\n",
              "      <td>44910.000000</td>\n",
              "    </tr>\n",
              "    <tr>\n",
              "      <th>max</th>\n",
              "      <td>990.000000</td>\n",
              "      <td>113.978234</td>\n",
              "      <td>0.999973</td>\n",
              "      <td>142.192400</td>\n",
              "      <td>0.900000</td>\n",
              "      <td>35059.600000</td>\n",
              "      <td>60.000000</td>\n",
              "      <td>448269.000000</td>\n",
              "      <td>5.000028e+06</td>\n",
              "      <td>141.000000</td>\n",
              "      <td>...</td>\n",
              "      <td>49.000000</td>\n",
              "      <td>49.000000</td>\n",
              "      <td>500.000000</td>\n",
              "      <td>0.0</td>\n",
              "      <td>3.000000</td>\n",
              "      <td>1.000000</td>\n",
              "      <td>59.000000</td>\n",
              "      <td>1000.000000</td>\n",
              "      <td>inf</td>\n",
              "      <td>56000.000000</td>\n",
              "    </tr>\n",
              "  </tbody>\n",
              "</table>\n",
              "<p>8 rows × 22 columns</p>\n",
              "</div>\n",
              "      <button class=\"colab-df-convert\" onclick=\"convertToInteractive('df-d9b8fbc3-01ee-42a4-8afa-143e5a81df6d')\"\n",
              "              title=\"Convert this dataframe to an interactive table.\"\n",
              "              style=\"display:none;\">\n",
              "        \n",
              "  <svg xmlns=\"http://www.w3.org/2000/svg\" height=\"24px\"viewBox=\"0 0 24 24\"\n",
              "       width=\"24px\">\n",
              "    <path d=\"M0 0h24v24H0V0z\" fill=\"none\"/>\n",
              "    <path d=\"M18.56 5.44l.94 2.06.94-2.06 2.06-.94-2.06-.94-.94-2.06-.94 2.06-2.06.94zm-11 1L8.5 8.5l.94-2.06 2.06-.94-2.06-.94L8.5 2.5l-.94 2.06-2.06.94zm10 10l.94 2.06.94-2.06 2.06-.94-2.06-.94-.94-2.06-.94 2.06-2.06.94z\"/><path d=\"M17.41 7.96l-1.37-1.37c-.4-.4-.92-.59-1.43-.59-.52 0-1.04.2-1.43.59L10.3 9.45l-7.72 7.72c-.78.78-.78 2.05 0 2.83L4 21.41c.39.39.9.59 1.41.59.51 0 1.02-.2 1.41-.59l7.78-7.78 2.81-2.81c.8-.78.8-2.07 0-2.86zM5.41 20L4 18.59l7.72-7.72 1.47 1.35L5.41 20z\"/>\n",
              "  </svg>\n",
              "      </button>\n",
              "      \n",
              "  <style>\n",
              "    .colab-df-container {\n",
              "      display:flex;\n",
              "      flex-wrap:wrap;\n",
              "      gap: 12px;\n",
              "    }\n",
              "\n",
              "    .colab-df-convert {\n",
              "      background-color: #E8F0FE;\n",
              "      border: none;\n",
              "      border-radius: 50%;\n",
              "      cursor: pointer;\n",
              "      display: none;\n",
              "      fill: #1967D2;\n",
              "      height: 32px;\n",
              "      padding: 0 0 0 0;\n",
              "      width: 32px;\n",
              "    }\n",
              "\n",
              "    .colab-df-convert:hover {\n",
              "      background-color: #E2EBFA;\n",
              "      box-shadow: 0px 1px 2px rgba(60, 64, 67, 0.3), 0px 1px 3px 1px rgba(60, 64, 67, 0.15);\n",
              "      fill: #174EA6;\n",
              "    }\n",
              "\n",
              "    [theme=dark] .colab-df-convert {\n",
              "      background-color: #3B4455;\n",
              "      fill: #D2E3FC;\n",
              "    }\n",
              "\n",
              "    [theme=dark] .colab-df-convert:hover {\n",
              "      background-color: #434B5C;\n",
              "      box-shadow: 0px 1px 3px 1px rgba(0, 0, 0, 0.15);\n",
              "      filter: drop-shadow(0px 1px 2px rgba(0, 0, 0, 0.3));\n",
              "      fill: #FFFFFF;\n",
              "    }\n",
              "  </style>\n",
              "\n",
              "      <script>\n",
              "        const buttonEl =\n",
              "          document.querySelector('#df-d9b8fbc3-01ee-42a4-8afa-143e5a81df6d button.colab-df-convert');\n",
              "        buttonEl.style.display =\n",
              "          google.colab.kernel.accessAllowed ? 'block' : 'none';\n",
              "\n",
              "        async function convertToInteractive(key) {\n",
              "          const element = document.querySelector('#df-d9b8fbc3-01ee-42a4-8afa-143e5a81df6d');\n",
              "          const dataTable =\n",
              "            await google.colab.kernel.invokeFunction('convertToInteractive',\n",
              "                                                     [key], {});\n",
              "          if (!dataTable) return;\n",
              "\n",
              "          const docLinkHtml = 'Like what you see? Visit the ' +\n",
              "            '<a target=\"_blank\" href=https://colab.research.google.com/notebooks/data_table.ipynb>data table notebook</a>'\n",
              "            + ' to learn more about interactive tables.';\n",
              "          element.innerHTML = '';\n",
              "          dataTable['output_type'] = 'display_data';\n",
              "          await google.colab.output.renderOutput(dataTable, element);\n",
              "          const docLink = document.createElement('div');\n",
              "          docLink.innerHTML = docLinkHtml;\n",
              "          element.appendChild(docLink);\n",
              "        }\n",
              "      </script>\n",
              "    </div>\n",
              "  </div>\n",
              "  "
            ]
          },
          "metadata": {},
          "execution_count": 9
        }
      ]
    },
    {
      "cell_type": "markdown",
      "source": [
        "Na variável alvo, existe um desbalanceamento e existe mais clientes sem risco de inadimplência do que com risco. "
      ],
      "metadata": {
        "id": "WjSTLBBKu_6G"
      }
    },
    {
      "cell_type": "code",
      "source": [
        "sns.countplot(x = 'target_default' , data =df)"
      ],
      "metadata": {
        "id": "cXDO3o7Jh_3Q",
        "colab": {
          "base_uri": "https://localhost:8080/",
          "height": 467
        },
        "outputId": "9f1aacb8-d630-43ba-e5b6-5601e0895b1b"
      },
      "execution_count": null,
      "outputs": [
        {
          "output_type": "execute_result",
          "data": {
            "text/plain": [
              "<Axes: xlabel='target_default', ylabel='count'>"
            ]
          },
          "metadata": {},
          "execution_count": 10
        },
        {
          "output_type": "display_data",
          "data": {
            "text/plain": [
              "<Figure size 640x480 with 1 Axes>"
            ],
            "image/png": "[encoded data removed]"
          },
          "metadata": {}
        }
      ]
    },
    {
      "cell_type": "markdown",
      "source": [
        "#Preparação dos dados "
      ],
      "metadata": {
        "id": "gZuLuZIo59vg"
      }
    },
    {
      "cell_type": "markdown",
      "source": [
        "Como vimos o dataset possui diversas colunas que necessitam de tratamento. Nos casos de *target_fraud*, não ser o alvo da analise e ser a com maior percentual de dados ausentes, e as colunas *external_data_provider_credit_checks_last_2_year* terem mais da metade dos dados ausentes, essas serão excluídas. \n",
        "\n",
        "As colunas que possuem valores do tipo *srtings* e são dados \"codificados\", por não acresentarem  nenhuma informação relevante foram excluídas. "
      ],
      "metadata": {
        "id": "6yEVzwhprlNb"
      }
    },
    {
      "cell_type": "code",
      "source": [
        "df_copy = df.copy()\n",
        "\n",
        "df_copy.drop(columns=['target_fraud', 'external_data_provider_credit_checks_last_2_year',\n",
        "                      'ids', 'score_2', 'reason', 'state', 'channel', 'zip', \n",
        "                      'external_data_provider_first_name','real_state', 'job_name', \n",
        "                      'user_agent', 'profile_tags','lat_lon','profile_phone_number', \n",
        "                      'email', 'facebook_profile', 'shipping_zip_code','application_time_applied',\n",
        "                      ], inplace=True )"
      ],
      "metadata": {
        "id": "Jhy_uiZOvbyt"
      },
      "execution_count": null,
      "outputs": []
    },
    {
      "cell_type": "markdown",
      "source": [
        "A divisão por estados nos mostra que São Paulo é o estado com maior número de pessoas inadinplêntes, o que é de se esperar já que é o estado com maior número de pessoas. O estado, que pela proporção pessoas, chama a atenção é Roraima, no total de pessoas está similar aos demais estados, porém, tem mais pessoas indadimplentes. "
      ],
      "metadata": {
        "id": "afgLeCRtwK45"
      }
    },
    {
      "cell_type": "code",
      "source": [
        "df_copy['shipping_state'] = df_copy['shipping_state'].apply(lambda x: x.replace('BR-', ''))"
      ],
      "metadata": {
        "id": "Bc0Qp0l1z1Rp"
      },
      "execution_count": null,
      "outputs": []
    },
    {
      "cell_type": "code",
      "source": [
        "df_copy['shipping_state']"
      ],
      "metadata": {
        "id": "FY--94ug8e-k",
        "colab": {
          "base_uri": "https://localhost:8080/"
        },
        "outputId": "ae9ceb3a-7bc7-4f7c-96c0-e2808fc30560"
      },
      "execution_count": null,
      "outputs": [
        {
          "output_type": "execute_result",
          "data": {
            "text/plain": [
              "0        MT\n",
              "1        RS\n",
              "2        RR\n",
              "3        RN\n",
              "4        MT\n",
              "         ..\n",
              "44995    GO\n",
              "44996    RO\n",
              "44997    SP\n",
              "44998    SP\n",
              "44999    MT\n",
              "Name: shipping_state, Length: 45000, dtype: object"
            ]
          },
          "metadata": {},
          "execution_count": 13
        }
      ]
    },
    {
      "cell_type": "code",
      "source": [
        "fig,ax =plt.subplots(figsize=(8,8))\n",
        "\n",
        "sns.countplot(x='shipping_state', data=df_copy, hue='target_default')\n",
        "\n",
        "plt.tight_layout()"
      ],
      "metadata": {
        "id": "ieArQsxjn0Oe",
        "colab": {
          "base_uri": "https://localhost:8080/",
          "height": 807
        },
        "outputId": "e70f4b95-c544-4328-9872-033599b1fe0d"
      },
      "execution_count": null,
      "outputs": [
        {
          "output_type": "display_data",
          "data": {
            "text/plain": [
              "<Figure size 800x800 with 1 Axes>"
            ],
            "image/png": "[encoded data removed]"
          },
          "metadata": {}
        }
      ]
    },
    {
      "cell_type": "markdown",
      "source": [
        "A variável *score_1* por apresentar apenas 7 valores distintos pode representar algum tipo de classificação para o cliente. Sendo assim, será feita a substitução dos valores codificados por categorias A,B,C,D,E,F,G. "
      ],
      "metadata": {
        "id": "ApxNhC586avY"
      }
    },
    {
      "cell_type": "code",
      "source": [
        "df_copy['score_1'].value_counts()"
      ],
      "metadata": {
        "colab": {
          "base_uri": "https://localhost:8080/"
        },
        "id": "-CbHeP-arr5F",
        "outputId": "0b218f68-c96c-4557-d052-e02899ecaa1a"
      },
      "execution_count": null,
      "outputs": [
        {
          "output_type": "execute_result",
          "data": {
            "text/plain": [
              "DGCQep2AE5QRkNCshIAlFQ==    14523\n",
              "1Rk8w4Ucd5yR3KcqZzLdow==    11376\n",
              "4DLlLW62jReXaqbPaHp1vQ==     7459\n",
              "8k8UDR4Yx0qasAjkGrUZLw==     6458\n",
              "e4NYDor1NOw6XKGE60AWFw==     3015\n",
              "smzX0nxh5QlePvtVf6EAeg==     1307\n",
              "fyrlulOiZ+5hoFqLa6UbDQ==      300\n",
              "Name: score_1, dtype: int64"
            ]
          },
          "metadata": {},
          "execution_count": 15
        }
      ]
    },
    {
      "cell_type": "markdown",
      "source": [
        "Além desses valores acima situados, a colunas possui ainda alguns valores ausentes. Esses valores foram preenchidos com dados que mais se repetiu."
      ],
      "metadata": {
        "id": "LR1Q4ED85Cgf"
      }
    },
    {
      "cell_type": "code",
      "source": [
        "df_copy['score_1'].unique()"
      ],
      "metadata": {
        "colab": {
          "base_uri": "https://localhost:8080/"
        },
        "id": "4tfegpMTvuAA",
        "outputId": "39675a60-9ebd-4811-fda1-797c3f047d43"
      },
      "execution_count": null,
      "outputs": [
        {
          "output_type": "execute_result",
          "data": {
            "text/plain": [
              "array(['1Rk8w4Ucd5yR3KcqZzLdow==', 'DGCQep2AE5QRkNCshIAlFQ==',\n",
              "       '8k8UDR4Yx0qasAjkGrUZLw==', '4DLlLW62jReXaqbPaHp1vQ==',\n",
              "       'e4NYDor1NOw6XKGE60AWFw==', 'smzX0nxh5QlePvtVf6EAeg==',\n",
              "       'fyrlulOiZ+5hoFqLa6UbDQ==', nan], dtype=object)"
            ]
          },
          "metadata": {},
          "execution_count": 16
        }
      ]
    },
    {
      "cell_type": "code",
      "source": [
        "df_copy['score_1'].isna().sum()"
      ],
      "metadata": {
        "colab": {
          "base_uri": "https://localhost:8080/"
        },
        "id": "gcA2bR_7wp5O",
        "outputId": "c6e02e1f-b2e4-43bb-929f-bd1507be8d6b"
      },
      "execution_count": null,
      "outputs": [
        {
          "output_type": "execute_result",
          "data": {
            "text/plain": [
              "562"
            ]
          },
          "metadata": {},
          "execution_count": 17
        }
      ]
    },
    {
      "cell_type": "code",
      "source": [
        "df_copy['score_1'].fillna('DGCQep2AE5QRkNCshIAlFQ==', inplace=True)"
      ],
      "metadata": {
        "id": "n6Rp_naE0Kge"
      },
      "execution_count": null,
      "outputs": []
    },
    {
      "cell_type": "code",
      "source": [
        "df_copy['score_1'].unique()"
      ],
      "metadata": {
        "colab": {
          "base_uri": "https://localhost:8080/"
        },
        "id": "UDQPpr8l2D7C",
        "outputId": "7a2b6470-b2ee-411e-a18f-27a73ee765a2"
      },
      "execution_count": null,
      "outputs": [
        {
          "output_type": "execute_result",
          "data": {
            "text/plain": [
              "array(['1Rk8w4Ucd5yR3KcqZzLdow==', 'DGCQep2AE5QRkNCshIAlFQ==',\n",
              "       '8k8UDR4Yx0qasAjkGrUZLw==', '4DLlLW62jReXaqbPaHp1vQ==',\n",
              "       'e4NYDor1NOw6XKGE60AWFw==', 'smzX0nxh5QlePvtVf6EAeg==',\n",
              "       'fyrlulOiZ+5hoFqLa6UbDQ=='], dtype=object)"
            ]
          },
          "metadata": {},
          "execution_count": 19
        }
      ]
    },
    {
      "cell_type": "code",
      "source": [
        "df_copy['score_1'].replace('1Rk8w4Ucd5yR3KcqZzLdow==', 'Score_A', inplace=True)\n",
        "df_copy['score_1'].replace('8k8UDR4Yx0qasAjkGrUZLw==', 'Score_B', inplace=True)\n",
        "df_copy['score_1'].replace('e4NYDor1NOw6XKGE60AWFw==', 'Score_C', inplace=True)\n",
        "df_copy['score_1'].replace('fyrlulOiZ+5hoFqLa6UbDQ==', 'Score_D', inplace=True)\n",
        "df_copy['score_1'].replace('DGCQep2AE5QRkNCshIAlFQ==', 'Score_E', inplace=True)\n",
        "df_copy['score_1'].replace('4DLlLW62jReXaqbPaHp1vQ==', 'Score_F', inplace=True)\n",
        "df_copy['score_1'].replace('smzX0nxh5QlePvtVf6EAeg==', 'Score_G', inplace=True)\n"
      ],
      "metadata": {
        "id": "KV-fktWzsjl7"
      },
      "execution_count": null,
      "outputs": []
    },
    {
      "cell_type": "code",
      "source": [
        "df_copy['score_1'].unique()"
      ],
      "metadata": {
        "colab": {
          "base_uri": "https://localhost:8080/"
        },
        "id": "F37YTn8y5kT2",
        "outputId": "b6b7d35c-9914-47e2-99f9-ab2920b417f1"
      },
      "execution_count": null,
      "outputs": [
        {
          "output_type": "execute_result",
          "data": {
            "text/plain": [
              "array(['Score_A', 'Score_E', 'Score_B', 'Score_F', 'Score_C', 'Score_G',\n",
              "       'Score_D'], dtype=object)"
            ]
          },
          "metadata": {},
          "execution_count": 21
        }
      ]
    },
    {
      "cell_type": "markdown",
      "source": [
        "Passaremos a tratar os dados númericos agora. O valor np.inf, conota um valor positivo infinito, deve ser substituido por np.nan e ser posteriormente tratado juntamente com os outros valores ausente. E o valor -999 por ser um outlier será transformado em np.nan. "
      ],
      "metadata": {
        "id": "O8OQ_GdJWGIh"
      }
    },
    {
      "cell_type": "code",
      "source": [
        "df_copy['reported_income'].replace(np.inf, np.nan, inplace=True)"
      ],
      "metadata": {
        "id": "H4sc7GvPGw-V"
      },
      "execution_count": null,
      "outputs": []
    },
    {
      "cell_type": "code",
      "source": [
        "df_copy['external_data_provider_email_seen_before'].replace(-999, np.nan, inplace=True)"
      ],
      "metadata": {
        "id": "k68QRZKdXrpD"
      },
      "execution_count": null,
      "outputs": []
    },
    {
      "cell_type": "code",
      "source": [
        "df_copy.describe()"
      ],
      "metadata": {
        "colab": {
          "base_uri": "https://localhost:8080/",
          "height": 364
        },
        "id": "lEtkB2hDXxBg",
        "outputId": "54d1de8b-4060-44f1-d2f0-fed77d28b7cd"
      },
      "execution_count": null,
      "outputs": [
        {
          "output_type": "execute_result",
          "data": {
            "text/plain": [
              "            score_3       score_4       score_5       score_6     risk_rate  \\\n",
              "count  44438.000000  45000.000000  45000.000000  45000.000000  44438.000000   \n",
              "mean     347.983258    100.006797      0.500037     99.925228      0.296717   \n",
              "std      110.429165      3.178080      0.288326     10.016549      0.101933   \n",
              "min        0.000000     86.191572      0.000035     60.663039      0.000000   \n",
              "25%      270.000000     97.867036      0.252150     93.198353      0.220000   \n",
              "50%      340.000000    100.018900      0.500753     99.974796      0.290000   \n",
              "75%      420.000000    102.141797      0.748816    106.640275      0.360000   \n",
              "max      990.000000    113.978234      0.999973    142.192400      0.900000   \n",
              "\n",
              "       last_amount_borrowed  last_borrowed_in_months   credit_limit  \\\n",
              "count          15044.000000             15044.000000   31200.000000   \n",
              "mean           13782.341991                41.763893   34381.951154   \n",
              "std             8077.571933                10.252705   36586.982218   \n",
              "min             1005.180000                36.000000       0.000000   \n",
              "25%             7519.502500                36.000000   10000.000000   \n",
              "50%            12023.465000                36.000000   25647.000000   \n",
              "75%            19220.270000                36.000000   47086.750000   \n",
              "max            35059.600000                60.000000  448269.000000   \n",
              "\n",
              "             income      ok_since  n_bankruptcies  n_defaulted_loans  \\\n",
              "count  4.443800e+04  18455.000000    44303.000000       44426.000000   \n",
              "mean   7.160739e+04     35.069737        0.076270           0.004569   \n",
              "std    5.185897e+04     21.663194        0.274052           0.079400   \n",
              "min    4.821180e+03      0.000000        0.000000           0.000000   \n",
              "25%    4.501078e+04     17.000000        0.000000           0.000000   \n",
              "50%    6.126676e+04     32.000000        0.000000           0.000000   \n",
              "75%    8.601923e+04     50.000000        0.000000           0.000000   \n",
              "max    5.000028e+06    141.000000        5.000000           5.000000   \n",
              "\n",
              "         n_accounts      n_issues  application_time_in_funnel  \\\n",
              "count  44438.000000  33456.000000                45000.000000   \n",
              "mean      10.696701     11.068119                  247.537000   \n",
              "std        4.592463      4.595501                  146.118398   \n",
              "min        0.000000      0.000000                    0.000000   \n",
              "25%        7.000000      8.000000                  120.000000   \n",
              "50%       10.000000     10.000000                  248.000000   \n",
              "75%       13.000000     14.000000                  375.000000   \n",
              "max       49.000000     49.000000                  500.000000   \n",
              "\n",
              "       external_data_provider_credit_checks_last_month  \\\n",
              "count                                     45000.000000   \n",
              "mean                                          1.501067   \n",
              "std                                           1.114941   \n",
              "min                                           0.000000   \n",
              "25%                                           1.000000   \n",
              "50%                                           2.000000   \n",
              "75%                                           2.000000   \n",
              "max                                           3.000000   \n",
              "\n",
              "       external_data_provider_credit_checks_last_year  \\\n",
              "count                                    29876.000000   \n",
              "mean                                         0.503381   \n",
              "std                                          0.499997   \n",
              "min                                          0.000000   \n",
              "25%                                          0.000000   \n",
              "50%                                          1.000000   \n",
              "75%                                          1.000000   \n",
              "max                                          1.000000   \n",
              "\n",
              "       external_data_provider_email_seen_before  \\\n",
              "count                              42121.000000   \n",
              "mean                                  28.048456   \n",
              "std                                   17.939836   \n",
              "min                                   -1.000000   \n",
              "25%                                   12.000000   \n",
              "50%                                   28.000000   \n",
              "75%                                   44.000000   \n",
              "max                                   59.000000   \n",
              "\n",
              "       external_data_provider_fraud_score  reported_income  \n",
              "count                        45000.000000     4.493300e+04  \n",
              "mean                           500.399800     1.032542e+13  \n",
              "std                            287.968873     2.559648e+14  \n",
              "min                              0.000000     4.030000e+02  \n",
              "25%                            252.000000     5.085600e+04  \n",
              "50%                            503.000000     1.016300e+05  \n",
              "75%                            747.000000     1.511870e+05  \n",
              "max                           1000.000000     6.355500e+15  "
            ],
            "text/html": [
              "\n",
              "  <div id=\"df-b2f72361-350c-424a-a931-1cfcfc42e960\">\n",
              "    <div class=\"colab-df-container\">\n",
              "      <div>\n",
              "<style scoped>\n",
              "    .dataframe tbody tr th:only-of-type {\n",
              "        vertical-align: middle;\n",
              "    }\n",
              "\n",
              "    .dataframe tbody tr th {\n",
              "        vertical-align: top;\n",
              "    }\n",
              "\n",
              "    .dataframe thead th {\n",
              "        text-align: right;\n",
              "    }\n",
              "</style>\n",
              "<table border=\"1\" class=\"dataframe\">\n",
              "  <thead>\n",
              "    <tr style=\"text-align: right;\">\n",
              "      <th></th>\n",
              "      <th>score_3</th>\n",
              "      <th>score_4</th>\n",
              "      <th>score_5</th>\n",
              "      <th>score_6</th>\n",
              "      <th>risk_rate</th>\n",
              "      <th>last_amount_borrowed</th>\n",
              "      <th>last_borrowed_in_months</th>\n",
              "      <th>credit_limit</th>\n",
              "      <th>income</th>\n",
              "      <th>ok_since</th>\n",
              "      <th>n_bankruptcies</th>\n",
              "      <th>n_defaulted_loans</th>\n",
              "      <th>n_accounts</th>\n",
              "      <th>n_issues</th>\n",
              "      <th>application_time_in_funnel</th>\n",
              "      <th>external_data_provider_credit_checks_last_month</th>\n",
              "      <th>external_data_provider_credit_checks_last_year</th>\n",
              "      <th>external_data_provider_email_seen_before</th>\n",
              "      <th>external_data_provider_fraud_score</th>\n",
              "      <th>reported_income</th>\n",
              "    </tr>\n",
              "  </thead>\n",
              "  <tbody>\n",
              "    <tr>\n",
              "      <th>count</th>\n",
              "      <td>44438.000000</td>\n",
              "      <td>45000.000000</td>\n",
              "      <td>45000.000000</td>\n",
              "      <td>45000.000000</td>\n",
              "      <td>44438.000000</td>\n",
              "      <td>15044.000000</td>\n",
              "      <td>15044.000000</td>\n",
              "      <td>31200.000000</td>\n",
              "      <td>4.443800e+04</td>\n",
              "      <td>18455.000000</td>\n",
              "      <td>44303.000000</td>\n",
              "      <td>44426.000000</td>\n",
              "      <td>44438.000000</td>\n",
              "      <td>33456.000000</td>\n",
              "      <td>45000.000000</td>\n",
              "      <td>45000.000000</td>\n",
              "      <td>29876.000000</td>\n",
              "      <td>42121.000000</td>\n",
              "      <td>45000.000000</td>\n",
              "      <td>4.493300e+04</td>\n",
              "    </tr>\n",
              "    <tr>\n",
              "      <th>mean</th>\n",
              "      <td>347.983258</td>\n",
              "      <td>100.006797</td>\n",
              "      <td>0.500037</td>\n",
              "      <td>99.925228</td>\n",
              "      <td>0.296717</td>\n",
              "      <td>13782.341991</td>\n",
              "      <td>41.763893</td>\n",
              "      <td>34381.951154</td>\n",
              "      <td>7.160739e+04</td>\n",
              "      <td>35.069737</td>\n",
              "      <td>0.076270</td>\n",
              "      <td>0.004569</td>\n",
              "      <td>10.696701</td>\n",
              "      <td>11.068119</td>\n",
              "      <td>247.537000</td>\n",
              "      <td>1.501067</td>\n",
              "      <td>0.503381</td>\n",
              "      <td>28.048456</td>\n",
              "      <td>500.399800</td>\n",
              "      <td>1.032542e+13</td>\n",
              "    </tr>\n",
              "    <tr>\n",
              "      <th>std</th>\n",
              "      <td>110.429165</td>\n",
              "      <td>3.178080</td>\n",
              "      <td>0.288326</td>\n",
              "      <td>10.016549</td>\n",
              "      <td>0.101933</td>\n",
              "      <td>8077.571933</td>\n",
              "      <td>10.252705</td>\n",
              "      <td>36586.982218</td>\n",
              "      <td>5.185897e+04</td>\n",
              "      <td>21.663194</td>\n",
              "      <td>0.274052</td>\n",
              "      <td>0.079400</td>\n",
              "      <td>4.592463</td>\n",
              "      <td>4.595501</td>\n",
              "      <td>146.118398</td>\n",
              "      <td>1.114941</td>\n",
              "      <td>0.499997</td>\n",
              "      <td>17.939836</td>\n",
              "      <td>287.968873</td>\n",
              "      <td>2.559648e+14</td>\n",
              "    </tr>\n",
              "    <tr>\n",
              "      <th>min</th>\n",
              "      <td>0.000000</td>\n",
              "      <td>86.191572</td>\n",
              "      <td>0.000035</td>\n",
              "      <td>60.663039</td>\n",
              "      <td>0.000000</td>\n",
              "      <td>1005.180000</td>\n",
              "      <td>36.000000</td>\n",
              "      <td>0.000000</td>\n",
              "      <td>4.821180e+03</td>\n",
              "      <td>0.000000</td>\n",
              "      <td>0.000000</td>\n",
              "      <td>0.000000</td>\n",
              "      <td>0.000000</td>\n",
              "      <td>0.000000</td>\n",
              "      <td>0.000000</td>\n",
              "      <td>0.000000</td>\n",
              "      <td>0.000000</td>\n",
              "      <td>-1.000000</td>\n",
              "      <td>0.000000</td>\n",
              "      <td>4.030000e+02</td>\n",
              "    </tr>\n",
              "    <tr>\n",
              "      <th>25%</th>\n",
              "      <td>270.000000</td>\n",
              "      <td>97.867036</td>\n",
              "      <td>0.252150</td>\n",
              "      <td>93.198353</td>\n",
              "      <td>0.220000</td>\n",
              "      <td>7519.502500</td>\n",
              "      <td>36.000000</td>\n",
              "      <td>10000.000000</td>\n",
              "      <td>4.501078e+04</td>\n",
              "      <td>17.000000</td>\n",
              "      <td>0.000000</td>\n",
              "      <td>0.000000</td>\n",
              "      <td>7.000000</td>\n",
              "      <td>8.000000</td>\n",
              "      <td>120.000000</td>\n",
              "      <td>1.000000</td>\n",
              "      <td>0.000000</td>\n",
              "      <td>12.000000</td>\n",
              "      <td>252.000000</td>\n",
              "      <td>5.085600e+04</td>\n",
              "    </tr>\n",
              "    <tr>\n",
              "      <th>50%</th>\n",
              "      <td>340.000000</td>\n",
              "      <td>100.018900</td>\n",
              "      <td>0.500753</td>\n",
              "      <td>99.974796</td>\n",
              "      <td>0.290000</td>\n",
              "      <td>12023.465000</td>\n",
              "      <td>36.000000</td>\n",
              "      <td>25647.000000</td>\n",
              "      <td>6.126676e+04</td>\n",
              "      <td>32.000000</td>\n",
              "      <td>0.000000</td>\n",
              "      <td>0.000000</td>\n",
              "      <td>10.000000</td>\n",
              "      <td>10.000000</td>\n",
              "      <td>248.000000</td>\n",
              "      <td>2.000000</td>\n",
              "      <td>1.000000</td>\n",
              "      <td>28.000000</td>\n",
              "      <td>503.000000</td>\n",
              "      <td>1.016300e+05</td>\n",
              "    </tr>\n",
              "    <tr>\n",
              "      <th>75%</th>\n",
              "      <td>420.000000</td>\n",
              "      <td>102.141797</td>\n",
              "      <td>0.748816</td>\n",
              "      <td>106.640275</td>\n",
              "      <td>0.360000</td>\n",
              "      <td>19220.270000</td>\n",
              "      <td>36.000000</td>\n",
              "      <td>47086.750000</td>\n",
              "      <td>8.601923e+04</td>\n",
              "      <td>50.000000</td>\n",
              "      <td>0.000000</td>\n",
              "      <td>0.000000</td>\n",
              "      <td>13.000000</td>\n",
              "      <td>14.000000</td>\n",
              "      <td>375.000000</td>\n",
              "      <td>2.000000</td>\n",
              "      <td>1.000000</td>\n",
              "      <td>44.000000</td>\n",
              "      <td>747.000000</td>\n",
              "      <td>1.511870e+05</td>\n",
              "    </tr>\n",
              "    <tr>\n",
              "      <th>max</th>\n",
              "      <td>990.000000</td>\n",
              "      <td>113.978234</td>\n",
              "      <td>0.999973</td>\n",
              "      <td>142.192400</td>\n",
              "      <td>0.900000</td>\n",
              "      <td>35059.600000</td>\n",
              "      <td>60.000000</td>\n",
              "      <td>448269.000000</td>\n",
              "      <td>5.000028e+06</td>\n",
              "      <td>141.000000</td>\n",
              "      <td>5.000000</td>\n",
              "      <td>5.000000</td>\n",
              "      <td>49.000000</td>\n",
              "      <td>49.000000</td>\n",
              "      <td>500.000000</td>\n",
              "      <td>3.000000</td>\n",
              "      <td>1.000000</td>\n",
              "      <td>59.000000</td>\n",
              "      <td>1000.000000</td>\n",
              "      <td>6.355500e+15</td>\n",
              "    </tr>\n",
              "  </tbody>\n",
              "</table>\n",
              "</div>\n",
              "      <button class=\"colab-df-convert\" onclick=\"convertToInteractive('df-b2f72361-350c-424a-a931-1cfcfc42e960')\"\n",
              "              title=\"Convert this dataframe to an interactive table.\"\n",
              "              style=\"display:none;\">\n",
              "        \n",
              "  <svg xmlns=\"http://www.w3.org/2000/svg\" height=\"24px\"viewBox=\"0 0 24 24\"\n",
              "       width=\"24px\">\n",
              "    <path d=\"M0 0h24v24H0V0z\" fill=\"none\"/>\n",
              "    <path d=\"M18.56 5.44l.94 2.06.94-2.06 2.06-.94-2.06-.94-.94-2.06-.94 2.06-2.06.94zm-11 1L8.5 8.5l.94-2.06 2.06-.94-2.06-.94L8.5 2.5l-.94 2.06-2.06.94zm10 10l.94 2.06.94-2.06 2.06-.94-2.06-.94-.94-2.06-.94 2.06-2.06.94z\"/><path d=\"M17.41 7.96l-1.37-1.37c-.4-.4-.92-.59-1.43-.59-.52 0-1.04.2-1.43.59L10.3 9.45l-7.72 7.72c-.78.78-.78 2.05 0 2.83L4 21.41c.39.39.9.59 1.41.59.51 0 1.02-.2 1.41-.59l7.78-7.78 2.81-2.81c.8-.78.8-2.07 0-2.86zM5.41 20L4 18.59l7.72-7.72 1.47 1.35L5.41 20z\"/>\n",
              "  </svg>\n",
              "      </button>\n",
              "      \n",
              "  <style>\n",
              "    .colab-df-container {\n",
              "      display:flex;\n",
              "      flex-wrap:wrap;\n",
              "      gap: 12px;\n",
              "    }\n",
              "\n",
              "    .colab-df-convert {\n",
              "      background-color: #E8F0FE;\n",
              "      border: none;\n",
              "      border-radius: 50%;\n",
              "      cursor: pointer;\n",
              "      display: none;\n",
              "      fill: #1967D2;\n",
              "      height: 32px;\n",
              "      padding: 0 0 0 0;\n",
              "      width: 32px;\n",
              "    }\n",
              "\n",
              "    .colab-df-convert:hover {\n",
              "      background-color: #E2EBFA;\n",
              "      box-shadow: 0px 1px 2px rgba(60, 64, 67, 0.3), 0px 1px 3px 1px rgba(60, 64, 67, 0.15);\n",
              "      fill: #174EA6;\n",
              "    }\n",
              "\n",
              "    [theme=dark] .colab-df-convert {\n",
              "      background-color: #3B4455;\n",
              "      fill: #D2E3FC;\n",
              "    }\n",
              "\n",
              "    [theme=dark] .colab-df-convert:hover {\n",
              "      background-color: #434B5C;\n",
              "      box-shadow: 0px 1px 3px 1px rgba(0, 0, 0, 0.15);\n",
              "      filter: drop-shadow(0px 1px 2px rgba(0, 0, 0, 0.3));\n",
              "      fill: #FFFFFF;\n",
              "    }\n",
              "  </style>\n",
              "\n",
              "      <script>\n",
              "        const buttonEl =\n",
              "          document.querySelector('#df-b2f72361-350c-424a-a931-1cfcfc42e960 button.colab-df-convert');\n",
              "        buttonEl.style.display =\n",
              "          google.colab.kernel.accessAllowed ? 'block' : 'none';\n",
              "\n",
              "        async function convertToInteractive(key) {\n",
              "          const element = document.querySelector('#df-b2f72361-350c-424a-a931-1cfcfc42e960');\n",
              "          const dataTable =\n",
              "            await google.colab.kernel.invokeFunction('convertToInteractive',\n",
              "                                                     [key], {});\n",
              "          if (!dataTable) return;\n",
              "\n",
              "          const docLinkHtml = 'Like what you see? Visit the ' +\n",
              "            '<a target=\"_blank\" href=https://colab.research.google.com/notebooks/data_table.ipynb>data table notebook</a>'\n",
              "            + ' to learn more about interactive tables.';\n",
              "          element.innerHTML = '';\n",
              "          dataTable['output_type'] = 'display_data';\n",
              "          await google.colab.output.renderOutput(dataTable, element);\n",
              "          const docLink = document.createElement('div');\n",
              "          docLink.innerHTML = docLinkHtml;\n",
              "          element.appendChild(docLink);\n",
              "        }\n",
              "      </script>\n",
              "    </div>\n",
              "  </div>\n",
              "  "
            ]
          },
          "metadata": {},
          "execution_count": 24
        }
      ]
    },
    {
      "cell_type": "markdown",
      "source": [
        "As colunas referentes a situação, de a pessoa já pego algum emprestimo ou não, possuem valores ausentes. Nesse caso, foi considerado que a ausência de valor pode ser considerado que o cliente nunca pegou um emprestimo e por isso, não possui informação a cerca desta questão. Assim, os valores ausentes foram substituidos por zero.\n"
      ],
      "metadata": {
        "id": "cgcCgB4IZjYd"
      }
    },
    {
      "cell_type": "code",
      "source": [
        "df_copy['last_borrowed_in_months'].fillna(0, inplace=True)\n",
        "df_copy['last_amount_borrowed'].fillna(0, inplace=True)\n",
        "df_copy['n_issues'].fillna(0, inplace=True)"
      ],
      "metadata": {
        "id": "yGfywhVBYEoK"
      },
      "execution_count": null,
      "outputs": []
    },
    {
      "cell_type": "code",
      "source": [
        "cate = df_copy.select_dtypes(include=['object']).columns\n",
        "numb = df_copy.select_dtypes(exclude=['object']).columns\n",
        "\n",
        "#substituindo valores ausentes nas colunas numéricas\n",
        "imp_median = SimpleImputer(missing_values=np.nan, strategy='median')\n",
        "imp_median.fit(df_copy.loc[:,numb])\n",
        "df_copy.loc[:,numb] = imp_median.transform(df_copy.loc[:,numb])\n",
        "\n",
        "#substituindo valores ausentes nas colunas categóricas\n",
        "imp_cate = SimpleImputer(missing_values=np.nan, strategy='most_frequent')\n",
        "imp_cate.fit(df_copy.loc[:,cate])\n",
        "df_copy.loc[:,cate] = imp_cate.transform(df_copy.loc[:,cate])"
      ],
      "metadata": {
        "colab": {
          "base_uri": "https://localhost:8080/"
        },
        "id": "UL6CrQJLaljr",
        "outputId": "8d38b4cb-3997-4d89-9aab-3d093ba711e0"
      },
      "execution_count": null,
      "outputs": [
        {
          "output_type": "stream",
          "name": "stderr",
          "text": [
            "<ipython-input-26-e8da043e851a>:7: DeprecationWarning: In a future version, `df.iloc[:, i] = newvals` will attempt to set the values inplace instead of always setting a new array. To retain the old behavior, use either `df[df.columns[i]] = newvals` or, if columns are non-unique, `df.isetitem(i, newvals)`\n",
            "  df_copy.loc[:,numb] = imp_median.transform(df_copy.loc[:,numb])\n",
            "<ipython-input-26-e8da043e851a>:12: DeprecationWarning: In a future version, `df.iloc[:, i] = newvals` will attempt to set the values inplace instead of always setting a new array. To retain the old behavior, use either `df[df.columns[i]] = newvals` or, if columns are non-unique, `df.isetitem(i, newvals)`\n",
            "  df_copy.loc[:,cate] = imp_cate.transform(df_copy.loc[:,cate])\n"
          ]
        }
      ]
    },
    {
      "cell_type": "markdown",
      "source": [
        "Agora temos um dataframe completo sem valores ausentes."
      ],
      "metadata": {
        "id": "HdmHskLnhf7X"
      }
    },
    {
      "cell_type": "code",
      "source": [
        "df_copy.isnull().sum()"
      ],
      "metadata": {
        "colab": {
          "base_uri": "https://localhost:8080/"
        },
        "id": "4J43JFGgfGty",
        "outputId": "c8f71039-d68e-433a-fbd4-f31ae10b21eb"
      },
      "execution_count": null,
      "outputs": [
        {
          "output_type": "execute_result",
          "data": {
            "text/plain": [
              "target_default                                     0\n",
              "score_1                                            0\n",
              "score_3                                            0\n",
              "score_4                                            0\n",
              "score_5                                            0\n",
              "score_6                                            0\n",
              "risk_rate                                          0\n",
              "last_amount_borrowed                               0\n",
              "last_borrowed_in_months                            0\n",
              "credit_limit                                       0\n",
              "income                                             0\n",
              "ok_since                                           0\n",
              "n_bankruptcies                                     0\n",
              "n_defaulted_loans                                  0\n",
              "n_accounts                                         0\n",
              "n_issues                                           0\n",
              "application_time_in_funnel                         0\n",
              "external_data_provider_credit_checks_last_month    0\n",
              "external_data_provider_credit_checks_last_year     0\n",
              "external_data_provider_email_seen_before           0\n",
              "external_data_provider_fraud_score                 0\n",
              "marketing_channel                                  0\n",
              "reported_income                                    0\n",
              "shipping_state                                     0\n",
              "dtype: int64"
            ]
          },
          "metadata": {},
          "execution_count": 27
        }
      ]
    },
    {
      "cell_type": "markdown",
      "source": [
        "Como último passo da preparação dos dados, é necessário transformar os valores categóricos em númericos. Para isso, foi aplicado o método LabelEnconder na variável *target_default* e *marketing_channel*; e para as demais colunas de valores categóricos o método get_dummies, por apresentarem mais de valor possível na coluna.\n"
      ],
      "metadata": {
        "id": "pDha6_Munfb3"
      }
    },
    {
      "cell_type": "code",
      "source": [
        "df_copy = pd.get_dummies(df_copy, columns=['score_1', 'shipping_state'])"
      ],
      "metadata": {
        "id": "9ewF0PtvgLcT"
      },
      "execution_count": null,
      "outputs": []
    },
    {
      "cell_type": "code",
      "source": [
        "le =LabelEncoder()\n",
        "df_copy['target_default']=le.fit_transform(df_copy['target_default'])\n",
        "df_copy['marketing_channel']=le.fit_transform(df_copy['marketing_channel'])"
      ],
      "metadata": {
        "id": "MHxk5qKTipbZ"
      },
      "execution_count": null,
      "outputs": []
    },
    {
      "cell_type": "code",
      "source": [
        "df_copy.head()"
      ],
      "metadata": {
        "colab": {
          "base_uri": "https://localhost:8080/",
          "height": 300
        },
        "id": "0VTMtW90m8LC",
        "outputId": "f2d9dd19-b737-45a9-f76c-956f9cf9847f"
      },
      "execution_count": null,
      "outputs": [
        {
          "output_type": "execute_result",
          "data": {
            "text/plain": [
              "   target_default  score_3     score_4   score_5     score_6  risk_rate  \\\n",
              "0               0    350.0  101.800832  0.259555  108.427273       0.40   \n",
              "1               0    370.0   97.062615  0.942655   92.002546       0.24   \n",
              "2               1    360.0  100.027073  0.351918  112.892453       0.29   \n",
              "3               0    510.0  101.599485  0.987673   94.902491       0.32   \n",
              "4               0    500.0   98.474289  0.532539  118.126207       0.18   \n",
              "\n",
              "   last_amount_borrowed  last_borrowed_in_months  credit_limit     income  \\\n",
              "0              25033.92                     36.0           0.0   65014.12   \n",
              "1                  0.00                      0.0       39726.0  100018.91   \n",
              "2               7207.92                     36.0       25647.0   65023.65   \n",
              "3                  0.00                      0.0       54591.0   68830.01   \n",
              "4                  0.00                      0.0       25647.0   60011.29   \n",
              "\n",
              "   ...  shipping_state_PE  shipping_state_PR  shipping_state_RN  \\\n",
              "0  ...                  0                  0                  0   \n",
              "1  ...                  0                  0                  0   \n",
              "2  ...                  0                  0                  0   \n",
              "3  ...                  0                  0                  1   \n",
              "4  ...                  0                  0                  0   \n",
              "\n",
              "   shipping_state_RO  shipping_state_RR  shipping_state_RS  shipping_state_SC  \\\n",
              "0                  0                  0                  0                  0   \n",
              "1                  0                  0                  1                  0   \n",
              "2                  0                  1                  0                  0   \n",
              "3                  0                  0                  0                  0   \n",
              "4                  0                  0                  0                  0   \n",
              "\n",
              "   shipping_state_SE  shipping_state_SP  shipping_state_TO  \n",
              "0                  0                  0                  0  \n",
              "1                  0                  0                  0  \n",
              "2                  0                  0                  0  \n",
              "3                  0                  0                  0  \n",
              "4                  0                  0                  0  \n",
              "\n",
              "[5 rows x 54 columns]"
            ],
            "text/html": [
              "\n",
              "  <div id=\"df-9ec1745e-c749-4f02-86ee-0234dae0abfb\">\n",
              "    <div class=\"colab-df-container\">\n",
              "      <div>\n",
              "<style scoped>\n",
              "    .dataframe tbody tr th:only-of-type {\n",
              "        vertical-align: middle;\n",
              "    }\n",
              "\n",
              "    .dataframe tbody tr th {\n",
              "        vertical-align: top;\n",
              "    }\n",
              "\n",
              "    .dataframe thead th {\n",
              "        text-align: right;\n",
              "    }\n",
              "</style>\n",
              "<table border=\"1\" class=\"dataframe\">\n",
              "  <thead>\n",
              "    <tr style=\"text-align: right;\">\n",
              "      <th></th>\n",
              "      <th>target_default</th>\n",
              "      <th>score_3</th>\n",
              "      <th>score_4</th>\n",
              "      <th>score_5</th>\n",
              "      <th>score_6</th>\n",
              "      <th>risk_rate</th>\n",
              "      <th>last_amount_borrowed</th>\n",
              "      <th>last_borrowed_in_months</th>\n",
              "      <th>credit_limit</th>\n",
              "      <th>income</th>\n",
              "      <th>...</th>\n",
              "      <th>shipping_state_PE</th>\n",
              "      <th>shipping_state_PR</th>\n",
              "      <th>shipping_state_RN</th>\n",
              "      <th>shipping_state_RO</th>\n",
              "      <th>shipping_state_RR</th>\n",
              "      <th>shipping_state_RS</th>\n",
              "      <th>shipping_state_SC</th>\n",
              "      <th>shipping_state_SE</th>\n",
              "      <th>shipping_state_SP</th>\n",
              "      <th>shipping_state_TO</th>\n",
              "    </tr>\n",
              "  </thead>\n",
              "  <tbody>\n",
              "    <tr>\n",
              "      <th>0</th>\n",
              "      <td>0</td>\n",
              "      <td>350.0</td>\n",
              "      <td>101.800832</td>\n",
              "      <td>0.259555</td>\n",
              "      <td>108.427273</td>\n",
              "      <td>0.40</td>\n",
              "      <td>25033.92</td>\n",
              "      <td>36.0</td>\n",
              "      <td>0.0</td>\n",
              "      <td>65014.12</td>\n",
              "      <td>...</td>\n",
              "      <td>0</td>\n",
              "      <td>0</td>\n",
              "      <td>0</td>\n",
              "      <td>0</td>\n",
              "      <td>0</td>\n",
              "      <td>0</td>\n",
              "      <td>0</td>\n",
              "      <td>0</td>\n",
              "      <td>0</td>\n",
              "      <td>0</td>\n",
              "    </tr>\n",
              "    <tr>\n",
              "      <th>1</th>\n",
              "      <td>0</td>\n",
              "      <td>370.0</td>\n",
              "      <td>97.062615</td>\n",
              "      <td>0.942655</td>\n",
              "      <td>92.002546</td>\n",
              "      <td>0.24</td>\n",
              "      <td>0.00</td>\n",
              "      <td>0.0</td>\n",
              "      <td>39726.0</td>\n",
              "      <td>100018.91</td>\n",
              "      <td>...</td>\n",
              "      <td>0</td>\n",
              "      <td>0</td>\n",
              "      <td>0</td>\n",
              "      <td>0</td>\n",
              "      <td>0</td>\n",
              "      <td>1</td>\n",
              "      <td>0</td>\n",
              "      <td>0</td>\n",
              "      <td>0</td>\n",
              "      <td>0</td>\n",
              "    </tr>\n",
              "    <tr>\n",
              "      <th>2</th>\n",
              "      <td>1</td>\n",
              "      <td>360.0</td>\n",
              "      <td>100.027073</td>\n",
              "      <td>0.351918</td>\n",
              "      <td>112.892453</td>\n",
              "      <td>0.29</td>\n",
              "      <td>7207.92</td>\n",
              "      <td>36.0</td>\n",
              "      <td>25647.0</td>\n",
              "      <td>65023.65</td>\n",
              "      <td>...</td>\n",
              "      <td>0</td>\n",
              "      <td>0</td>\n",
              "      <td>0</td>\n",
              "      <td>0</td>\n",
              "      <td>1</td>\n",
              "      <td>0</td>\n",
              "      <td>0</td>\n",
              "      <td>0</td>\n",
              "      <td>0</td>\n",
              "      <td>0</td>\n",
              "    </tr>\n",
              "    <tr>\n",
              "      <th>3</th>\n",
              "      <td>0</td>\n",
              "      <td>510.0</td>\n",
              "      <td>101.599485</td>\n",
              "      <td>0.987673</td>\n",
              "      <td>94.902491</td>\n",
              "      <td>0.32</td>\n",
              "      <td>0.00</td>\n",
              "      <td>0.0</td>\n",
              "      <td>54591.0</td>\n",
              "      <td>68830.01</td>\n",
              "      <td>...</td>\n",
              "      <td>0</td>\n",
              "      <td>0</td>\n",
              "      <td>1</td>\n",
              "      <td>0</td>\n",
              "      <td>0</td>\n",
              "      <td>0</td>\n",
              "      <td>0</td>\n",
              "      <td>0</td>\n",
              "      <td>0</td>\n",
              "      <td>0</td>\n",
              "    </tr>\n",
              "    <tr>\n",
              "      <th>4</th>\n",
              "      <td>0</td>\n",
              "      <td>500.0</td>\n",
              "      <td>98.474289</td>\n",
              "      <td>0.532539</td>\n",
              "      <td>118.126207</td>\n",
              "      <td>0.18</td>\n",
              "      <td>0.00</td>\n",
              "      <td>0.0</td>\n",
              "      <td>25647.0</td>\n",
              "      <td>60011.29</td>\n",
              "      <td>...</td>\n",
              "      <td>0</td>\n",
              "      <td>0</td>\n",
              "      <td>0</td>\n",
              "      <td>0</td>\n",
              "      <td>0</td>\n",
              "      <td>0</td>\n",
              "      <td>0</td>\n",
              "      <td>0</td>\n",
              "      <td>0</td>\n",
              "      <td>0</td>\n",
              "    </tr>\n",
              "  </tbody>\n",
              "</table>\n",
              "<p>5 rows × 54 columns</p>\n",
              "</div>\n",
              "      <button class=\"colab-df-convert\" onclick=\"convertToInteractive('df-9ec1745e-c749-4f02-86ee-0234dae0abfb')\"\n",
              "              title=\"Convert this dataframe to an interactive table.\"\n",
              "              style=\"display:none;\">\n",
              "        \n",
              "  <svg xmlns=\"http://www.w3.org/2000/svg\" height=\"24px\"viewBox=\"0 0 24 24\"\n",
              "       width=\"24px\">\n",
              "    <path d=\"M0 0h24v24H0V0z\" fill=\"none\"/>\n",
              "    <path d=\"M18.56 5.44l.94 2.06.94-2.06 2.06-.94-2.06-.94-.94-2.06-.94 2.06-2.06.94zm-11 1L8.5 8.5l.94-2.06 2.06-.94-2.06-.94L8.5 2.5l-.94 2.06-2.06.94zm10 10l.94 2.06.94-2.06 2.06-.94-2.06-.94-.94-2.06-.94 2.06-2.06.94z\"/><path d=\"M17.41 7.96l-1.37-1.37c-.4-.4-.92-.59-1.43-.59-.52 0-1.04.2-1.43.59L10.3 9.45l-7.72 7.72c-.78.78-.78 2.05 0 2.83L4 21.41c.39.39.9.59 1.41.59.51 0 1.02-.2 1.41-.59l7.78-7.78 2.81-2.81c.8-.78.8-2.07 0-2.86zM5.41 20L4 18.59l7.72-7.72 1.47 1.35L5.41 20z\"/>\n",
              "  </svg>\n",
              "      </button>\n",
              "      \n",
              "  <style>\n",
              "    .colab-df-container {\n",
              "      display:flex;\n",
              "      flex-wrap:wrap;\n",
              "      gap: 12px;\n",
              "    }\n",
              "\n",
              "    .colab-df-convert {\n",
              "      background-color: #E8F0FE;\n",
              "      border: none;\n",
              "      border-radius: 50%;\n",
              "      cursor: pointer;\n",
              "      display: none;\n",
              "      fill: #1967D2;\n",
              "      height: 32px;\n",
              "      padding: 0 0 0 0;\n",
              "      width: 32px;\n",
              "    }\n",
              "\n",
              "    .colab-df-convert:hover {\n",
              "      background-color: #E2EBFA;\n",
              "      box-shadow: 0px 1px 2px rgba(60, 64, 67, 0.3), 0px 1px 3px 1px rgba(60, 64, 67, 0.15);\n",
              "      fill: #174EA6;\n",
              "    }\n",
              "\n",
              "    [theme=dark] .colab-df-convert {\n",
              "      background-color: #3B4455;\n",
              "      fill: #D2E3FC;\n",
              "    }\n",
              "\n",
              "    [theme=dark] .colab-df-convert:hover {\n",
              "      background-color: #434B5C;\n",
              "      box-shadow: 0px 1px 3px 1px rgba(0, 0, 0, 0.15);\n",
              "      filter: drop-shadow(0px 1px 2px rgba(0, 0, 0, 0.3));\n",
              "      fill: #FFFFFF;\n",
              "    }\n",
              "  </style>\n",
              "\n",
              "      <script>\n",
              "        const buttonEl =\n",
              "          document.querySelector('#df-9ec1745e-c749-4f02-86ee-0234dae0abfb button.colab-df-convert');\n",
              "        buttonEl.style.display =\n",
              "          google.colab.kernel.accessAllowed ? 'block' : 'none';\n",
              "\n",
              "        async function convertToInteractive(key) {\n",
              "          const element = document.querySelector('#df-9ec1745e-c749-4f02-86ee-0234dae0abfb');\n",
              "          const dataTable =\n",
              "            await google.colab.kernel.invokeFunction('convertToInteractive',\n",
              "                                                     [key], {});\n",
              "          if (!dataTable) return;\n",
              "\n",
              "          const docLinkHtml = 'Like what you see? Visit the ' +\n",
              "            '<a target=\"_blank\" href=https://colab.research.google.com/notebooks/data_table.ipynb>data table notebook</a>'\n",
              "            + ' to learn more about interactive tables.';\n",
              "          element.innerHTML = '';\n",
              "          dataTable['output_type'] = 'display_data';\n",
              "          await google.colab.output.renderOutput(dataTable, element);\n",
              "          const docLink = document.createElement('div');\n",
              "          docLink.innerHTML = docLinkHtml;\n",
              "          element.appendChild(docLink);\n",
              "        }\n",
              "      </script>\n",
              "    </div>\n",
              "  </div>\n",
              "  "
            ]
          },
          "metadata": {},
          "execution_count": 30
        }
      ]
    },
    {
      "cell_type": "markdown",
      "source": [
        "#Treino\n",
        "\n",
        "Para facilitar a ánalise, incialmente é realizado uma última etapa de pré-processamento. Os dados foram colocados na mesma dimensão através do método StandardScaler, este método foi escolhido pelos dados não apresentarem outliers."
      ],
      "metadata": {
        "id": "7-gxozwRokpH"
      }
    },
    {
      "cell_type": "code",
      "source": [
        "df_scaled = df_copy.copy()\n",
        "\n",
        "cols = df_scaled.drop('target_default', axis=1).columns\n",
        "\n",
        "scaler = StandardScaler()\n",
        "df_scaled[cols] = scaler.fit_transform(df_scaled[cols].values)\n"
      ],
      "metadata": {
        "id": "g4IuOvIpnAG6"
      },
      "execution_count": null,
      "outputs": []
    },
    {
      "cell_type": "code",
      "source": [
        "df_scaled.head()"
      ],
      "metadata": {
        "colab": {
          "base_uri": "https://localhost:8080/",
          "height": 300
        },
        "id": "pkHB8xmos81y",
        "outputId": "d2021977-3876-4cbb-d0a9-945b01684e86"
      },
      "execution_count": null,
      "outputs": [
        {
          "output_type": "execute_result",
          "data": {
            "text/plain": [
              "   target_default   score_3   score_4   score_5   score_6  risk_rate  \\\n",
              "0               0  0.019286  0.564509 -0.834072  0.848809   1.020438   \n",
              "1               0  0.201535 -0.926413  1.535143 -0.790968  -0.559085   \n",
              "2               1  0.110411  0.006380 -0.513727  1.294594  -0.065484   \n",
              "3               0  1.477281  0.501153  1.691282 -0.501449   0.230676   \n",
              "4               0  1.386156 -0.482217  0.112727  1.817111  -1.151406   \n",
              "\n",
              "   last_amount_borrowed  last_borrowed_in_months  credit_limit    income  ...  \\\n",
              "0              2.551599                 1.071123     -1.031692 -0.125404  ...   \n",
              "1             -0.575567                -0.678612      0.261078  0.553689  ...   \n",
              "2              0.324826                 1.071123     -0.197083 -0.125219  ...   \n",
              "3             -0.575567                -0.678612      0.744817 -0.051376  ...   \n",
              "4             -0.575567                -0.678612     -0.197083 -0.222459  ...   \n",
              "\n",
              "   shipping_state_PE  shipping_state_PR  shipping_state_RN  shipping_state_RO  \\\n",
              "0          -0.173091          -0.176467          -0.172954          -0.177268   \n",
              "1          -0.173091          -0.176467          -0.172954          -0.177268   \n",
              "2          -0.173091          -0.176467          -0.172954          -0.177268   \n",
              "3          -0.173091          -0.176467           5.781868          -0.177268   \n",
              "4          -0.173091          -0.176467          -0.172954          -0.177268   \n",
              "\n",
              "   shipping_state_RR  shipping_state_RS  shipping_state_SC  shipping_state_SE  \\\n",
              "0          -0.192627          -0.175997          -0.173227          -0.179852   \n",
              "1          -0.192627           5.681903          -0.173227          -0.179852   \n",
              "2           5.191369          -0.175997          -0.173227          -0.179852   \n",
              "3          -0.192627          -0.175997          -0.173227          -0.179852   \n",
              "4          -0.192627          -0.175997          -0.173227          -0.179852   \n",
              "\n",
              "   shipping_state_SP  shipping_state_TO  \n",
              "0           -0.42898          -0.176734  \n",
              "1           -0.42898          -0.176734  \n",
              "2           -0.42898          -0.176734  \n",
              "3           -0.42898          -0.176734  \n",
              "4           -0.42898          -0.176734  \n",
              "\n",
              "[5 rows x 54 columns]"
            ],
            "text/html": [
              "\n",
              "  <div id=\"df-6ec92861-deed-4e9d-8888-6c9e4195a0d4\">\n",
              "    <div class=\"colab-df-container\">\n",
              "      <div>\n",
              "<style scoped>\n",
              "    .dataframe tbody tr th:only-of-type {\n",
              "        vertical-align: middle;\n",
              "    }\n",
              "\n",
              "    .dataframe tbody tr th {\n",
              "        vertical-align: top;\n",
              "    }\n",
              "\n",
              "    .dataframe thead th {\n",
              "        text-align: right;\n",
              "    }\n",
              "</style>\n",
              "<table border=\"1\" class=\"dataframe\">\n",
              "  <thead>\n",
              "    <tr style=\"text-align: right;\">\n",
              "      <th></th>\n",
              "      <th>target_default</th>\n",
              "      <th>score_3</th>\n",
              "      <th>score_4</th>\n",
              "      <th>score_5</th>\n",
              "      <th>score_6</th>\n",
              "      <th>risk_rate</th>\n",
              "      <th>last_amount_borrowed</th>\n",
              "      <th>last_borrowed_in_months</th>\n",
              "      <th>credit_limit</th>\n",
              "      <th>income</th>\n",
              "      <th>...</th>\n",
              "      <th>shipping_state_PE</th>\n",
              "      <th>shipping_state_PR</th>\n",
              "      <th>shipping_state_RN</th>\n",
              "      <th>shipping_state_RO</th>\n",
              "      <th>shipping_state_RR</th>\n",
              "      <th>shipping_state_RS</th>\n",
              "      <th>shipping_state_SC</th>\n",
              "      <th>shipping_state_SE</th>\n",
              "      <th>shipping_state_SP</th>\n",
              "      <th>shipping_state_TO</th>\n",
              "    </tr>\n",
              "  </thead>\n",
              "  <tbody>\n",
              "    <tr>\n",
              "      <th>0</th>\n",
              "      <td>0</td>\n",
              "      <td>0.019286</td>\n",
              "      <td>0.564509</td>\n",
              "      <td>-0.834072</td>\n",
              "      <td>0.848809</td>\n",
              "      <td>1.020438</td>\n",
              "      <td>2.551599</td>\n",
              "      <td>1.071123</td>\n",
              "      <td>-1.031692</td>\n",
              "      <td>-0.125404</td>\n",
              "      <td>...</td>\n",
              "      <td>-0.173091</td>\n",
              "      <td>-0.176467</td>\n",
              "      <td>-0.172954</td>\n",
              "      <td>-0.177268</td>\n",
              "      <td>-0.192627</td>\n",
              "      <td>-0.175997</td>\n",
              "      <td>-0.173227</td>\n",
              "      <td>-0.179852</td>\n",
              "      <td>-0.42898</td>\n",
              "      <td>-0.176734</td>\n",
              "    </tr>\n",
              "    <tr>\n",
              "      <th>1</th>\n",
              "      <td>0</td>\n",
              "      <td>0.201535</td>\n",
              "      <td>-0.926413</td>\n",
              "      <td>1.535143</td>\n",
              "      <td>-0.790968</td>\n",
              "      <td>-0.559085</td>\n",
              "      <td>-0.575567</td>\n",
              "      <td>-0.678612</td>\n",
              "      <td>0.261078</td>\n",
              "      <td>0.553689</td>\n",
              "      <td>...</td>\n",
              "      <td>-0.173091</td>\n",
              "      <td>-0.176467</td>\n",
              "      <td>-0.172954</td>\n",
              "      <td>-0.177268</td>\n",
              "      <td>-0.192627</td>\n",
              "      <td>5.681903</td>\n",
              "      <td>-0.173227</td>\n",
              "      <td>-0.179852</td>\n",
              "      <td>-0.42898</td>\n",
              "      <td>-0.176734</td>\n",
              "    </tr>\n",
              "    <tr>\n",
              "      <th>2</th>\n",
              "      <td>1</td>\n",
              "      <td>0.110411</td>\n",
              "      <td>0.006380</td>\n",
              "      <td>-0.513727</td>\n",
              "      <td>1.294594</td>\n",
              "      <td>-0.065484</td>\n",
              "      <td>0.324826</td>\n",
              "      <td>1.071123</td>\n",
              "      <td>-0.197083</td>\n",
              "      <td>-0.125219</td>\n",
              "      <td>...</td>\n",
              "      <td>-0.173091</td>\n",
              "      <td>-0.176467</td>\n",
              "      <td>-0.172954</td>\n",
              "      <td>-0.177268</td>\n",
              "      <td>5.191369</td>\n",
              "      <td>-0.175997</td>\n",
              "      <td>-0.173227</td>\n",
              "      <td>-0.179852</td>\n",
              "      <td>-0.42898</td>\n",
              "      <td>-0.176734</td>\n",
              "    </tr>\n",
              "    <tr>\n",
              "      <th>3</th>\n",
              "      <td>0</td>\n",
              "      <td>1.477281</td>\n",
              "      <td>0.501153</td>\n",
              "      <td>1.691282</td>\n",
              "      <td>-0.501449</td>\n",
              "      <td>0.230676</td>\n",
              "      <td>-0.575567</td>\n",
              "      <td>-0.678612</td>\n",
              "      <td>0.744817</td>\n",
              "      <td>-0.051376</td>\n",
              "      <td>...</td>\n",
              "      <td>-0.173091</td>\n",
              "      <td>-0.176467</td>\n",
              "      <td>5.781868</td>\n",
              "      <td>-0.177268</td>\n",
              "      <td>-0.192627</td>\n",
              "      <td>-0.175997</td>\n",
              "      <td>-0.173227</td>\n",
              "      <td>-0.179852</td>\n",
              "      <td>-0.42898</td>\n",
              "      <td>-0.176734</td>\n",
              "    </tr>\n",
              "    <tr>\n",
              "      <th>4</th>\n",
              "      <td>0</td>\n",
              "      <td>1.386156</td>\n",
              "      <td>-0.482217</td>\n",
              "      <td>0.112727</td>\n",
              "      <td>1.817111</td>\n",
              "      <td>-1.151406</td>\n",
              "      <td>-0.575567</td>\n",
              "      <td>-0.678612</td>\n",
              "      <td>-0.197083</td>\n",
              "      <td>-0.222459</td>\n",
              "      <td>...</td>\n",
              "      <td>-0.173091</td>\n",
              "      <td>-0.176467</td>\n",
              "      <td>-0.172954</td>\n",
              "      <td>-0.177268</td>\n",
              "      <td>-0.192627</td>\n",
              "      <td>-0.175997</td>\n",
              "      <td>-0.173227</td>\n",
              "      <td>-0.179852</td>\n",
              "      <td>-0.42898</td>\n",
              "      <td>-0.176734</td>\n",
              "    </tr>\n",
              "  </tbody>\n",
              "</table>\n",
              "<p>5 rows × 54 columns</p>\n",
              "</div>\n",
              "      <button class=\"colab-df-convert\" onclick=\"convertToInteractive('df-6ec92861-deed-4e9d-8888-6c9e4195a0d4')\"\n",
              "              title=\"Convert this dataframe to an interactive table.\"\n",
              "              style=\"display:none;\">\n",
              "        \n",
              "  <svg xmlns=\"http://www.w3.org/2000/svg\" height=\"24px\"viewBox=\"0 0 24 24\"\n",
              "       width=\"24px\">\n",
              "    <path d=\"M0 0h24v24H0V0z\" fill=\"none\"/>\n",
              "    <path d=\"M18.56 5.44l.94 2.06.94-2.06 2.06-.94-2.06-.94-.94-2.06-.94 2.06-2.06.94zm-11 1L8.5 8.5l.94-2.06 2.06-.94-2.06-.94L8.5 2.5l-.94 2.06-2.06.94zm10 10l.94 2.06.94-2.06 2.06-.94-2.06-.94-.94-2.06-.94 2.06-2.06.94z\"/><path d=\"M17.41 7.96l-1.37-1.37c-.4-.4-.92-.59-1.43-.59-.52 0-1.04.2-1.43.59L10.3 9.45l-7.72 7.72c-.78.78-.78 2.05 0 2.83L4 21.41c.39.39.9.59 1.41.59.51 0 1.02-.2 1.41-.59l7.78-7.78 2.81-2.81c.8-.78.8-2.07 0-2.86zM5.41 20L4 18.59l7.72-7.72 1.47 1.35L5.41 20z\"/>\n",
              "  </svg>\n",
              "      </button>\n",
              "      \n",
              "  <style>\n",
              "    .colab-df-container {\n",
              "      display:flex;\n",
              "      flex-wrap:wrap;\n",
              "      gap: 12px;\n",
              "    }\n",
              "\n",
              "    .colab-df-convert {\n",
              "      background-color: #E8F0FE;\n",
              "      border: none;\n",
              "      border-radius: 50%;\n",
              "      cursor: pointer;\n",
              "      display: none;\n",
              "      fill: #1967D2;\n",
              "      height: 32px;\n",
              "      padding: 0 0 0 0;\n",
              "      width: 32px;\n",
              "    }\n",
              "\n",
              "    .colab-df-convert:hover {\n",
              "      background-color: #E2EBFA;\n",
              "      box-shadow: 0px 1px 2px rgba(60, 64, 67, 0.3), 0px 1px 3px 1px rgba(60, 64, 67, 0.15);\n",
              "      fill: #174EA6;\n",
              "    }\n",
              "\n",
              "    [theme=dark] .colab-df-convert {\n",
              "      background-color: #3B4455;\n",
              "      fill: #D2E3FC;\n",
              "    }\n",
              "\n",
              "    [theme=dark] .colab-df-convert:hover {\n",
              "      background-color: #434B5C;\n",
              "      box-shadow: 0px 1px 3px 1px rgba(0, 0, 0, 0.15);\n",
              "      filter: drop-shadow(0px 1px 2px rgba(0, 0, 0, 0.3));\n",
              "      fill: #FFFFFF;\n",
              "    }\n",
              "  </style>\n",
              "\n",
              "      <script>\n",
              "        const buttonEl =\n",
              "          document.querySelector('#df-6ec92861-deed-4e9d-8888-6c9e4195a0d4 button.colab-df-convert');\n",
              "        buttonEl.style.display =\n",
              "          google.colab.kernel.accessAllowed ? 'block' : 'none';\n",
              "\n",
              "        async function convertToInteractive(key) {\n",
              "          const element = document.querySelector('#df-6ec92861-deed-4e9d-8888-6c9e4195a0d4');\n",
              "          const dataTable =\n",
              "            await google.colab.kernel.invokeFunction('convertToInteractive',\n",
              "                                                     [key], {});\n",
              "          if (!dataTable) return;\n",
              "\n",
              "          const docLinkHtml = 'Like what you see? Visit the ' +\n",
              "            '<a target=\"_blank\" href=https://colab.research.google.com/notebooks/data_table.ipynb>data table notebook</a>'\n",
              "            + ' to learn more about interactive tables.';\n",
              "          element.innerHTML = '';\n",
              "          dataTable['output_type'] = 'display_data';\n",
              "          await google.colab.output.renderOutput(dataTable, element);\n",
              "          const docLink = document.createElement('div');\n",
              "          docLink.innerHTML = docLinkHtml;\n",
              "          element.appendChild(docLink);\n",
              "        }\n",
              "      </script>\n",
              "    </div>\n",
              "  </div>\n",
              "  "
            ]
          },
          "metadata": {},
          "execution_count": 32
        }
      ]
    },
    {
      "cell_type": "markdown",
      "source": [
        "Com os dados totalmente preparados, devemos separá-los em treino e teste. "
      ],
      "metadata": {
        "id": "LekphFoXyqJB"
      }
    },
    {
      "cell_type": "code",
      "source": [
        "X = df_scaled.drop('target_default', axis=1)\n",
        "y = df_scaled['target_default']\n",
        "\n",
        "X_train, X_test, y_train, y_test = train_test_split(X, y , stratify=y)"
      ],
      "metadata": {
        "id": "COogFFXLqfJ_"
      },
      "execution_count": null,
      "outputs": []
    },
    {
      "cell_type": "code",
      "source": [
        "y_train"
      ],
      "metadata": {
        "colab": {
          "base_uri": "https://localhost:8080/"
        },
        "id": "up8wLzz42Pwu",
        "outputId": "859d89e4-da0e-4347-e1bd-a4bbe011e3c3"
      },
      "execution_count": null,
      "outputs": [
        {
          "output_type": "execute_result",
          "data": {
            "text/plain": [
              "5252     0\n",
              "42675    0\n",
              "28643    0\n",
              "18618    0\n",
              "20110    0\n",
              "        ..\n",
              "40923    0\n",
              "36675    0\n",
              "34398    0\n",
              "4178     0\n",
              "24196    0\n",
              "Name: target_default, Length: 33750, dtype: int64"
            ]
          },
          "metadata": {},
          "execution_count": 34
        }
      ]
    },
    {
      "cell_type": "code",
      "source": [
        "print('Dados treino:{}' .format(X_train.shape))\n",
        "print('Dados treino alvo: {}'.format(y_train.shape))"
      ],
      "metadata": {
        "colab": {
          "base_uri": "https://localhost:8080/"
        },
        "id": "nX_E_qnM1nrO",
        "outputId": "2f5fa387-da23-4009-b930-fa654987d2b1"
      },
      "execution_count": null,
      "outputs": [
        {
          "output_type": "stream",
          "name": "stdout",
          "text": [
            "Dados treino:(33750, 53)\n",
            "Dados treino alvo: (33750,)\n"
          ]
        }
      ]
    },
    {
      "cell_type": "markdown",
      "source": [
        "Após termos os dados prontos para treino, precisamos de um baseline. Desta forma, apenas para ter um norte, foi utilizado o RandomForest utilizando acurácia como metrica de avaliação."
      ],
      "metadata": {
        "id": "Uwbwf2xO0iqb"
      }
    },
    {
      "cell_type": "code",
      "source": [
        "pipe = make_pipeline( StandardScaler(), RandomForestClassifier())\n",
        "scores = cross_val_score(pipe, X_train, y_train, scoring='accuracy')\n",
        "scores.mean()"
      ],
      "metadata": {
        "colab": {
          "base_uri": "https://localhost:8080/"
        },
        "id": "1tiZPfTfzrQa",
        "outputId": "ea410d03-062f-4d4f-c618-dfa0f300bae4"
      },
      "execution_count": null,
      "outputs": [
        {
          "output_type": "execute_result",
          "data": {
            "text/plain": [
              "0.8516148148148147"
            ]
          },
          "metadata": {},
          "execution_count": 36
        }
      ]
    },
    {
      "cell_type": "code",
      "source": [
        "#instanciando modelos para teste \n",
        "rfc = RandomForestClassifier()\n",
        "dt = DecisionTreeClassifier()\n",
        "sgdc = SGDClassifier()\n",
        "lg = LogisticRegression()\n",
        "xgb = XGBClassifier()\n",
        "lgbm = LGBMClassifier()\n"
      ],
      "metadata": {
        "id": "MDunnIsQ76u7"
      },
      "execution_count": null,
      "outputs": []
    },
    {
      "cell_type": "code",
      "source": [
        "for model in (lg, dt, rfc, xgb, sgdc, lgbm):\n",
        "  pipe = make_pipeline( model)\n",
        "  scores = cross_val_score(pipe, X_train, y_train, scoring = 'accuracy')\n",
        "  print('A acuracia do modelo {}:'.format(model.__class__.__name__), scores.mean())"
      ],
      "metadata": {
        "colab": {
          "base_uri": "https://localhost:8080/"
        },
        "id": "XY2boNFA3djW",
        "outputId": "0d61412e-9809-4d7c-fae3-ecbd05a77c94"
      },
      "execution_count": null,
      "outputs": [
        {
          "output_type": "stream",
          "name": "stdout",
          "text": [
            "A acuracia do modelo LogisticRegression: 0.8518518518518519\n",
            "A acuracia do modelo DecisionTreeClassifier: 0.7529481481481481\n",
            "A acuracia do modelo RandomForestClassifier: 0.8514962962962963\n",
            "A acuracia do modelo XGBClassifier: 0.8461925925925925\n",
            "A acuracia do modelo SGDClassifier: 0.8519407407407407\n",
            "A acuracia do modelo LGBMClassifier: 0.8509925925925927\n"
          ]
        }
      ]
    },
    {
      "cell_type": "markdown",
      "source": [
        "Para observar se há alguma melhora no resultado, foi realizado uma balanceamento dos dados uilizando o método SMOTE. O método aumenta,de forma sintética, os dados que possuem menor quantidade de amostras. "
      ],
      "metadata": {
        "id": "JORhcBAZ7ETE"
      }
    },
    {
      "cell_type": "code",
      "source": [
        "#Balanceamento \n",
        "sm = SMOTE()\n",
        "X_res, y_res = sm.fit_resample(X_train ,y_train)"
      ],
      "metadata": {
        "id": "C8ksHNOj3dbh"
      },
      "execution_count": null,
      "outputs": []
    },
    {
      "cell_type": "code",
      "source": [
        "for model in (lg, dt, rfc, xgb, sgdc, lgbm):\n",
        "  pipe = make_pipeline( model)\n",
        "  scores = cross_val_score(pipe, X_res, y_res, scoring = 'accuracy')\n",
        "  print('A acuracia do modelo {}:'.format(model.__class__.__name__), scores.mean())"
      ],
      "metadata": {
        "colab": {
          "base_uri": "https://localhost:8080/"
        },
        "id": "XJ9VuLcJ3iON",
        "outputId": "109e0ba7-39a2-4d5d-dd32-3eccb707b284"
      },
      "execution_count": null,
      "outputs": [
        {
          "output_type": "stream",
          "name": "stdout",
          "text": [
            "A acuracia do modelo LogisticRegression: 0.6360508217357161\n",
            "A acuracia do modelo DecisionTreeClassifier: 0.8102192590935559\n",
            "A acuracia do modelo RandomForestClassifier: 0.9092671611675266\n",
            "A acuracia do modelo XGBClassifier: 0.9014775124602276\n",
            "A acuracia do modelo SGDClassifier: 0.623269936791235\n",
            "A acuracia do modelo LGBMClassifier: 0.9064681499878194\n"
          ]
        }
      ]
    },
    {
      "cell_type": "markdown",
      "source": [
        "Por ser um modelo que consegue processar os dados de forma mais rápida, o LGBMClassifier foi utilizado para treino do modelo final. A seguir temos os hiperparâmetros padrões do modelo, estes são os que foram utilizados no teste acima."
      ],
      "metadata": {
        "id": "cDWeYOJ66VTY"
      }
    },
    {
      "cell_type": "code",
      "source": [
        "lgbm.get_params()"
      ],
      "metadata": {
        "colab": {
          "base_uri": "https://localhost:8080/"
        },
        "id": "SKHgcnuD4p40",
        "outputId": "492f9051-9900-438b-99b2-4be562e72e23"
      },
      "execution_count": null,
      "outputs": [
        {
          "output_type": "execute_result",
          "data": {
            "text/plain": [
              "{'boosting_type': 'gbdt',\n",
              " 'class_weight': None,\n",
              " 'colsample_bytree': 1.0,\n",
              " 'importance_type': 'split',\n",
              " 'learning_rate': 0.1,\n",
              " 'max_depth': -1,\n",
              " 'min_child_samples': 20,\n",
              " 'min_child_weight': 0.001,\n",
              " 'min_split_gain': 0.0,\n",
              " 'n_estimators': 100,\n",
              " 'n_jobs': -1,\n",
              " 'num_leaves': 31,\n",
              " 'objective': None,\n",
              " 'random_state': None,\n",
              " 'reg_alpha': 0.0,\n",
              " 'reg_lambda': 0.0,\n",
              " 'silent': 'warn',\n",
              " 'subsample': 1.0,\n",
              " 'subsample_for_bin': 200000,\n",
              " 'subsample_freq': 0}"
            ]
          },
          "metadata": {},
          "execution_count": 41
        }
      ]
    },
    {
      "cell_type": "markdown",
      "source": [
        "#Otimização Hiperparâmetros\n",
        " "
      ],
      "metadata": {
        "id": "F14y0D9HT99Q"
      }
    },
    {
      "cell_type": "markdown",
      "source": [
        "Por conta capacidade compucional, foram testado apenas alguns hiperparâmetros. Foram realizados teste com algoritmos XGBoost e RandomForest, porém, em ambos os casos, o tempo para achar os melhores hiperparametros excedeu tempo de 7 horas, e o processo não foi concluido.\n",
        "\n",
        "Devido ao ponto elencado acima, foi utilizado o modelo LGBMClassifier que apresentou resposta próxima dos melhores modelos, quando olhado para o teste da acurácia; além disso o teste de hiperparâmetros foi concluído em cerca de 2h e 40m.  \n",
        "\n",
        "Os hiperparâmetros alterados abaixo, segundo a própria decumentação oficial, são os mais indicados de serem trabalhos, afim de, evitar que ocorra over-fitting no modelo final.\n"
      ],
      "metadata": {
        "id": "3nQPZttbRaHo"
      }
    },
    {
      "cell_type": "code",
      "source": [
        "param_grid ={\n",
        "  'num_leaves': range(5,70, 5),  \n",
        "  'learning_rate': [0.001, 0.01, 0.1],\n",
        "  'max_depth': [1, 3, 5],\n",
        "  'n_estimators': [100, 500, 1000]\n",
        "  }\n",
        "\n",
        "\n",
        "kfold= StratifiedKFold(n_splits= 10, shuffle=True)\n",
        "grid_search = GridSearchCV(lgbm, param_grid, scoring='accuracy', cv= kfold,  \n",
        "                           error_score= 'raise')\n",
        "grid_result= grid_search.fit(X_res, y_res)\n",
        "\n",
        "print('Melhor pontuação {} para {}'.format(grid_result.best_score_, grid_result.best_params_))"
      ],
      "metadata": {
        "id": "nKbWJNKeUBSW",
        "colab": {
          "base_uri": "https://localhost:8080/"
        },
        "outputId": "b035a326-18eb-4d66-fd2d-a7009986a8db"
      },
      "execution_count": null,
      "outputs": [
        {
          "output_type": "stream",
          "name": "stdout",
          "text": [
            "Melhor pontuação 0.9112470209339774 para {'learning_rate': 0.1, 'max_depth': 3, 'n_estimators': 1000, 'num_leaves': 10}\n"
          ]
        }
      ]
    },
    {
      "cell_type": "code",
      "source": [
        "model=LGBMClassifier(learning_rate= 0.1,\n",
        "      max_depth= 3,\n",
        "      n_estimators= 1000,\n",
        "      num_leaves= 10)\n",
        "\n",
        "model.fit(X_res, y_res)"
      ],
      "metadata": {
        "id": "y6RK6qy9UbEK",
        "colab": {
          "base_uri": "https://localhost:8080/",
          "height": 75
        },
        "outputId": "b95df4be-841e-4c6e-e985-9e73f4945949"
      },
      "execution_count": null,
      "outputs": [
        {
          "output_type": "execute_result",
          "data": {
            "text/plain": [
              "LGBMClassifier(max_depth=3, n_estimators=1000, num_leaves=10)"
            ],
            "text/html": [
              "<style>#sk-container-id-1 {color: black;background-color: white;}#sk-container-id-1 pre{padding: 0;}#sk-container-id-1 div.sk-toggleable {background-color: white;}#sk-container-id-1 label.sk-toggleable__label {cursor: pointer;display: block;width: 100%;margin-bottom: 0;padding: 0.3em;box-sizing: border-box;text-align: center;}#sk-container-id-1 label.sk-toggleable__label-arrow:before {content: \"▸\";float: left;margin-right: 0.25em;color: #696969;}#sk-container-id-1 label.sk-toggleable__label-arrow:hover:before {color: black;}#sk-container-id-1 div.sk-estimator:hover label.sk-toggleable__label-arrow:before {color: black;}#sk-container-id-1 div.sk-toggleable__content {max-height: 0;max-width: 0;overflow: hidden;text-align: left;background-color: #f0f8ff;}#sk-container-id-1 div.sk-toggleable__content pre {margin: 0.2em;color: black;border-radius: 0.25em;background-color: #f0f8ff;}#sk-container-id-1 input.sk-toggleable__control:checked~div.sk-toggleable__content {max-height: 200px;max-width: 100%;overflow: auto;}#sk-container-id-1 input.sk-toggleable__control:checked~label.sk-toggleable__label-arrow:before {content: \"▾\";}#sk-container-id-1 div.sk-estimator input.sk-toggleable__control:checked~label.sk-toggleable__label {background-color: #d4ebff;}#sk-container-id-1 div.sk-label input.sk-toggleable__control:checked~label.sk-toggleable__label {background-color: #d4ebff;}#sk-container-id-1 input.sk-hidden--visually {border: 0;clip: rect(1px 1px 1px 1px);clip: rect(1px, 1px, 1px, 1px);height: 1px;margin: -1px;overflow: hidden;padding: 0;position: absolute;width: 1px;}#sk-container-id-1 div.sk-estimator {font-family: monospace;background-color: #f0f8ff;border: 1px dotted black;border-radius: 0.25em;box-sizing: border-box;margin-bottom: 0.5em;}#sk-container-id-1 div.sk-estimator:hover {background-color: #d4ebff;}#sk-container-id-1 div.sk-parallel-item::after {content: \"\";width: 100%;border-bottom: 1px solid gray;flex-grow: 1;}#sk-container-id-1 div.sk-label:hover label.sk-toggleable__label {background-color: #d4ebff;}#sk-container-id-1 div.sk-serial::before {content: \"\";position: absolute;border-left: 1px solid gray;box-sizing: border-box;top: 0;bottom: 0;left: 50%;z-index: 0;}#sk-container-id-1 div.sk-serial {display: flex;flex-direction: column;align-items: center;background-color: white;padding-right: 0.2em;padding-left: 0.2em;position: relative;}#sk-container-id-1 div.sk-item {position: relative;z-index: 1;}#sk-container-id-1 div.sk-parallel {display: flex;align-items: stretch;justify-content: center;background-color: white;position: relative;}#sk-container-id-1 div.sk-item::before, #sk-container-id-1 div.sk-parallel-item::before {content: \"\";position: absolute;border-left: 1px solid gray;box-sizing: border-box;top: 0;bottom: 0;left: 50%;z-index: -1;}#sk-container-id-1 div.sk-parallel-item {display: flex;flex-direction: column;z-index: 1;position: relative;background-color: white;}#sk-container-id-1 div.sk-parallel-item:first-child::after {align-self: flex-end;width: 50%;}#sk-container-id-1 div.sk-parallel-item:last-child::after {align-self: flex-start;width: 50%;}#sk-container-id-1 div.sk-parallel-item:only-child::after {width: 0;}#sk-container-id-1 div.sk-dashed-wrapped {border: 1px dashed gray;margin: 0 0.4em 0.5em 0.4em;box-sizing: border-box;padding-bottom: 0.4em;background-color: white;}#sk-container-id-1 div.sk-label label {font-family: monospace;font-weight: bold;display: inline-block;line-height: 1.2em;}#sk-container-id-1 div.sk-label-container {text-align: center;}#sk-container-id-1 div.sk-container {/* jupyter's `normalize.less` sets `[hidden] { display: none; }` but bootstrap.min.css set `[hidden] { display: none !important; }` so we also need the `!important` here to be able to override the default hidden behavior on the sphinx rendered scikit-learn.org. See: https://github.com/scikit-learn/scikit-learn/issues/21755 */display: inline-block !important;position: relative;}#sk-container-id-1 div.sk-text-repr-fallback {display: none;}</style><div id=\"sk-container-id-1\" class=\"sk-top-container\"><div class=\"sk-text-repr-fallback\"><pre>LGBMClassifier(max_depth=3, n_estimators=1000, num_leaves=10)</pre><b>In a Jupyter environment, please rerun this cell to show the HTML representation or trust the notebook. <br />On GitHub, the HTML representation is unable to render, please try loading this page with nbviewer.org.</b></div><div class=\"sk-container\" hidden><div class=\"sk-item\"><div class=\"sk-estimator sk-toggleable\"><input class=\"sk-toggleable__control sk-hidden--visually\" id=\"sk-estimator-id-1\" type=\"checkbox\" checked><label for=\"sk-estimator-id-1\" class=\"sk-toggleable__label sk-toggleable__label-arrow\">LGBMClassifier</label><div class=\"sk-toggleable__content\"><pre>LGBMClassifier(max_depth=3, n_estimators=1000, num_leaves=10)</pre></div></div></div></div></div>"
            ]
          },
          "metadata": {},
          "execution_count": 43
        }
      ]
    },
    {
      "cell_type": "code",
      "source": [
        "# previsões e probabilidades em cima do dataset de teste\n",
        "y_pred = model.predict(X_test)\n",
        "\n",
        "# imprimir a acurácia do modelo\n",
        "print(\"Acurácia: {:.4f}\\n\".format(accuracy_score(y_test, y_pred)))"
      ],
      "metadata": {
        "id": "bD1cduvXl5Ic",
        "colab": {
          "base_uri": "https://localhost:8080/"
        },
        "outputId": "9ce0d903-4eac-4219-cc99-1432e66ab6d3"
      },
      "execution_count": null,
      "outputs": [
        {
          "output_type": "stream",
          "name": "stdout",
          "text": [
            "Acurácia: 0.8502\n",
            "\n"
          ]
        }
      ]
    },
    {
      "cell_type": "markdown",
      "source": [
        "#Conclusão \n",
        "\n",
        "Como vimos o resultado final do modelo dos treinos superou o Baseline, e quando utilizado para prever os dados de teste o resultado, mesmo que tenha sido um pouco inferior, foi satisfatório. \n",
        "\n",
        "Cabe salientar que, para cenário real seriam necessários: estabelecer qual as melhores métricas de avalição do modelo; realizar teste dos hiperparâmetros dos modelos que obtiveram melhores resultados; talvez em uma busca no significado das variáveis codificadas, possam ajudar a obter um melhor resultado do modelo. "
      ],
      "metadata": {
        "id": "Th4hXemMsrAt"
      }
    }
  ]
}